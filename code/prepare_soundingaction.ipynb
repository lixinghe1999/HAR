{
 "cells": [
  {
   "cell_type": "code",
   "execution_count": 1,
   "id": "c436410d",
   "metadata": {},
   "outputs": [
    {
     "name": "stderr",
     "output_type": "stream",
     "text": [
      "/home/lixing/miniconda3/envs/har/lib/python3.9/site-packages/sentence_transformers/cross_encoder/CrossEncoder.py:11: TqdmExperimentalWarning: Using `tqdm.autonotebook.tqdm` in notebook mode. Use `tqdm.tqdm` instead to force console mode (e.g. in jupyter console)\n",
      "  from tqdm.autonotebook import tqdm, trange\n"
     ]
    }
   ],
   "source": [
    "import pandas as pd\n",
    "import numpy as np\n",
    "import matplotlib.pyplot as plt\n",
    "from sentence_transformers import SentenceTransformer\n",
    "import os\n",
    "import tqdm\n",
    "def word2vec(words):\n",
    "    '''\n",
    "    Convert the words to word vectors\n",
    "    '''\n",
    "    model = SentenceTransformer('all-MiniLM-L6-v2')\n",
    "    embeddings = []\n",
    "    for word in tqdm.tqdm(words):\n",
    "        embedding = model.encode([word])\n",
    "        embeddings.append(embedding)\n",
    "    return np.concatenate(embeddings, axis=0)"
   ]
  },
  {
   "cell_type": "code",
   "execution_count": 2,
   "id": "6eaedb80",
   "metadata": {},
   "outputs": [
    {
     "name": "stderr",
     "output_type": "stream",
     "text": [
      "100%|██████████| 29989/29989 [00:57<00:00, 523.81it/s]\n"
     ]
    }
   ],
   "source": [
    "import string\n",
    "def text_process(text):\n",
    "    text = text.replace(\"#C C \", \"\").replace(\"#C\", \"\").replace(\"#O\", \"\").replace(\"#unsure\", \"\").strip().strip(string.punctuation).lower()[:128]\n",
    "    text = text.replace(\"summary\", \"\")\n",
    "    return text\n",
    "metadata_dir = './ego4d/soundingaction/'\n",
    "meta_file = 'egoclip_val_clean_audio_halo.csv'\n",
    "metadata = pd.read_csv(metadata_dir + meta_file, header=0, sep='\\t')\n",
    "clip_text = metadata['clip_text'].tolist()\n",
    "clip_text = [text_process(text) for text in clip_text]\n",
    "clip_embeddings = word2vec(clip_text)"
   ]
  },
  {
   "cell_type": "code",
   "execution_count": 3,
   "id": "b49ae028",
   "metadata": {},
   "outputs": [],
   "source": [
    "from sklearn.cluster import KMeans\n",
    "from scipy.spatial.distance import cdist\n",
    "def find_clusters(vectors, n_clusters=50, top_n=50):\n",
    "    '''\n",
    "    Find the top n_clusters clusters in the embeddings.\n",
    "    Each cluster returns the top 50 words closest to the cluster center.\n",
    "    \n",
    "    Args:\n",
    "        embeddings: List or array of tuples (word, embedding), where embedding is a numpy array.\n",
    "        n_clusters: Number of clusters to form (default: 50).\n",
    "        top_n: Number of words to select per cluster (default: 50).\n",
    "    \n",
    "    Returns:\n",
    "        clusters: List of lists, where each inner list contains the top_n words for a cluster.\n",
    "    '''\n",
    "    # Separate words and their embeddings\n",
    "    vectors = np.array(vectors)\n",
    "    \n",
    "    # Perform K-means clustering\n",
    "    kmeans = KMeans(n_clusters=n_clusters, random_state=42)\n",
    "    kmeans.fit(vectors)\n",
    "    labels = kmeans.labels_\n",
    "    centroids = kmeans.cluster_centers_\n",
    "    \n",
    "    # Initialize clusters\n",
    "    clusters = [[] for _ in range(n_clusters)]\n",
    "    \n",
    "    # Assign words to clusters\n",
    "    for i, (vector, label) in enumerate(zip(vectors, labels)):\n",
    "        clusters[label].append((i, vector))\n",
    "    \n",
    "    # For each cluster, select top_n words closest to the centroid\n",
    "    top_indices_per_cluster = []\n",
    "    for cluster_idx, cluster in enumerate(clusters):\n",
    "        if not cluster:  # Skip empty clusters\n",
    "            continue\n",
    "        cluster_indices, cluster_vectors = zip(*cluster)\n",
    "        cluster_vectors = np.array(cluster_vectors)\n",
    "        \n",
    "        # Compute Euclidean distances to the centroid\n",
    "        distances = cdist(cluster_vectors, [centroids[cluster_idx]], metric='euclidean').flatten()\n",
    "        \n",
    "        # Get indices of top_n closest words\n",
    "        top_indices = np.argsort(distances)[:min(top_n, len(cluster))]\n",
    "        top_indices = [cluster_indices[idx] for idx in top_indices]\n",
    "        top_indices_per_cluster.append(top_indices)\n",
    "    \n",
    "    return top_indices_per_cluster"
   ]
  },
  {
   "cell_type": "code",
   "execution_count": 16,
   "id": "b3be492a",
   "metadata": {},
   "outputs": [
    {
     "name": "stdout",
     "output_type": "stream",
     "text": [
      "Number of positive words: 16380.0, Number of negative words: 13609.0\n",
      "Saved top 50 clusters of positive words to ./ego4d/soundingaction/cluster50_positive.csv\n"
     ]
    }
   ],
   "source": [
    "# find the top50 clusters for clip_embeddings, each cluster we use the top 50 words\n",
    "positive = metadata['positive'].tolist()\n",
    "# the number of positive words (1) and negative words (0)\n",
    "positive_count = sum(positive)\n",
    "negative_count = len(positive) - positive_count\n",
    "print(f'Number of positive words: {positive_count}, Number of negative words: {negative_count}')\n",
    "\n",
    "# split the embeddings into positive and negative\n",
    "positive_embeddings = clip_embeddings[np.array(positive) == 1]; positive_idx = np.where(np.array(positive) == 1)[0]\n",
    "negative_embeddings = clip_embeddings[np.array(positive) == 0]; negative_idx = np.where(np.array(positive) == 0)[0]\n",
    "\n",
    "top_words_per_cluster = find_clusters(positive_embeddings, n_clusters=50, top_n=200)\n",
    "csv_name = './ego4d/soundingaction/cluster50_positive.csv'\n",
    "csv_dataframe = []; activity_names = []\n",
    "for i, cluster in enumerate(top_words_per_cluster):\n",
    "    cluster_idx = positive_idx[cluster]\n",
    "    cluster_center = cluster_idx[0]; cluster_center_text = clip_text[cluster_center]\n",
    "    activity_names.append(cluster_center_text)\n",
    "    cluster_meta = metadata.iloc[cluster_idx]\n",
    "    # add a new column to the dataframe to indicate the activity index\n",
    "    cluster_meta = cluster_meta.copy()\n",
    "    cluster_meta['activity_index'] = i\n",
    "    cluster_meta['activity_name'] = cluster_center_text\n",
    "   \n",
    "    csv_dataframe.append(cluster_meta)\n",
    "csv_dataframe = pd.concat(csv_dataframe, ignore_index=True)\n",
    "csv_dataframe.to_csv(csv_name, index=False, sep='\\t')\n",
    "print(f'Saved top 50 clusters of positive words to {csv_name}')\n",
    "np.savetxt('./ego4d/soundingaction/cluster50_activity_names.txt', activity_names, fmt='%s')\n",
    "\n",
    "# top_words_per_cluster = find_clusters(negative_embeddings, n_clusters=50, top_n=-1)\n",
    "# csv_name = './ego4d/soundingaction/cluster50_50_negative.csv'\n",
    "# csv_dataframe = []\n",
    "# for i, cluster in enumerate(top_words_per_cluster):             \n",
    "#     cluster_idx = negative_idx[cluster]\n",
    "#     cluster_meta = metadata.iloc[cluster_idx]\n",
    "#     cluster_meta = cluster_meta.copy()\n",
    "#     cluster_meta['activity_index'] = i\n",
    "#     csv_dataframe.append(cluster_meta)\n",
    "# csv_dataframe = pd.concat(csv_dataframe, ignore_index=True)\n",
    "# csv_dataframe.to_csv(csv_name, index=False, sep='\\t')\n",
    "# print(f'Saved top 50 clusters of negative words to {csv_name}') "
   ]
  },
  {
   "cell_type": "code",
   "execution_count": 3,
   "id": "a2228d5d",
   "metadata": {},
   "outputs": [
    {
     "name": "stdout",
     "output_type": "stream",
     "text": [
      "Loading sound annotation from ego4d/soundingaction/cluster50_positive.csv\n",
      "Preparing training data\n"
     ]
    },
    {
     "name": "stderr",
     "output_type": "stream",
     "text": [
      "100%|██████████| 141/141 [00:00<00:00, 67120.29it/s]\n"
     ]
    },
    {
     "name": "stdout",
     "output_type": "stream",
     "text": [
      "Number of Scenario 41\n",
      "There are 2374 windows to process.\n"
     ]
    },
    {
     "name": "stderr",
     "output_type": "stream",
     "text": [
      "  0%|          | 4/2374 [00:00<01:02, 37.72it/s]"
     ]
    },
    {
     "name": "stdout",
     "output_type": "stream",
     "text": [
      "holds the paper\n",
      "moves the hand\n",
      "puts a card on the table\n",
      "puts a card on the table\n",
      "puts a card on the table\n",
      "puts a card on the table\n",
      "puts a card on the table\n"
     ]
    },
    {
     "name": "stderr",
     "output_type": "stream",
     "text": [
      "  0%|          | 8/2374 [00:00<01:01, 38.38it/s]"
     ]
    },
    {
     "name": "stdout",
     "output_type": "stream",
     "text": [
      "puts a card on the table\n"
     ]
    },
    {
     "name": "stderr",
     "output_type": "stream",
     "text": [
      "  1%|          | 12/2374 [00:00<01:02, 37.77it/s]"
     ]
    },
    {
     "name": "stdout",
     "output_type": "stream",
     "text": [
      "puts a card on the table\n",
      "puts a card on the table\n",
      "puts a card on the table\n",
      "puts a card on the table\n",
      "puts a card on the table\n",
      "puts a card on the table\n",
      "puts a card on the table\n"
     ]
    },
    {
     "name": "stderr",
     "output_type": "stream",
     "text": [
      "  1%|          | 16/2374 [00:00<01:01, 38.39it/s]"
     ]
    },
    {
     "name": "stdout",
     "output_type": "stream",
     "text": [
      "puts a card on the table\n"
     ]
    },
    {
     "name": "stderr",
     "output_type": "stream",
     "text": [
      "  1%|          | 21/2374 [00:00<00:59, 39.59it/s]"
     ]
    },
    {
     "name": "stdout",
     "output_type": "stream",
     "text": [
      "puts a card on the table\n",
      "puts a card on the table\n",
      "puts a card on the table\n",
      "puts a card on the table\n",
      "puts a card on the table\n",
      "puts a card on the table\n",
      "puts a card on the table\n",
      "puts a card on the table\n",
      "puts a card on the table\n",
      "puts a card on the table\n"
     ]
    },
    {
     "name": "stderr",
     "output_type": "stream",
     "text": [
      "  1%|          | 27/2374 [00:00<00:54, 42.84it/s]"
     ]
    },
    {
     "name": "stdout",
     "output_type": "stream",
     "text": [
      "puts a card on the table\n",
      "puts a card on the table\n",
      "puts a card on the table\n",
      "puts a card on the table\n",
      "puts a card on the table\n"
     ]
    },
    {
     "name": "stderr",
     "output_type": "stream",
     "text": [
      "  1%|▏         | 32/2374 [00:00<01:03, 36.94it/s]"
     ]
    },
    {
     "name": "stdout",
     "output_type": "stream",
     "text": [
      "puts a card on the table\n"
     ]
    },
    {
     "name": "stderr",
     "output_type": "stream",
     "text": [
      "  2%|▏         | 36/2374 [00:00<01:09, 33.87it/s]"
     ]
    },
    {
     "name": "stdout",
     "output_type": "stream",
     "text": [
      "puts a card on the table\n",
      "puts a card on the table\n",
      "puts a card on the table\n",
      "puts a card on the table\n",
      "puts a card on the table\n",
      "puts a card on the table\n"
     ]
    },
    {
     "name": "stderr",
     "output_type": "stream",
     "text": [
      "  2%|▏         | 40/2374 [00:01<01:14, 31.20it/s]"
     ]
    },
    {
     "name": "stdout",
     "output_type": "stream",
     "text": [
      "puts a card on the table\n",
      "puts a card on the table\n",
      "puts a card on the table\n",
      "puts a card on the table\n",
      "puts a card on the table\n"
     ]
    },
    {
     "name": "stderr",
     "output_type": "stream",
     "text": [
      "  2%|▏         | 44/2374 [00:01<01:17, 29.91it/s]"
     ]
    },
    {
     "name": "stdout",
     "output_type": "stream",
     "text": [
      "puts a card on the table\n"
     ]
    },
    {
     "name": "stderr",
     "output_type": "stream",
     "text": [
      "  2%|▏         | 48/2374 [00:01<01:21, 28.52it/s]"
     ]
    },
    {
     "name": "stdout",
     "output_type": "stream",
     "text": [
      "puts a card on the table\n",
      "puts a card on the table\n",
      "puts a card on the table\n",
      "puts a card on the table\n",
      "puts a card on the table\n"
     ]
    },
    {
     "name": "stderr",
     "output_type": "stream",
     "text": [
      "  2%|▏         | 51/2374 [00:01<01:24, 27.43it/s]"
     ]
    },
    {
     "name": "stdout",
     "output_type": "stream",
     "text": [
      "puts a card on the table\n",
      "puts a card on the table\n",
      "puts a card on the table\n",
      "puts a card on the table\n",
      "puts a card on the table\n"
     ]
    },
    {
     "name": "stderr",
     "output_type": "stream",
     "text": [
      "  2%|▏         | 55/2374 [00:01<01:24, 27.59it/s]"
     ]
    },
    {
     "name": "stdout",
     "output_type": "stream",
     "text": [
      "puts a card on the table\n"
     ]
    },
    {
     "name": "stderr",
     "output_type": "stream",
     "text": [
      "  2%|▏         | 58/2374 [00:01<01:24, 27.46it/s]"
     ]
    },
    {
     "name": "stdout",
     "output_type": "stream",
     "text": [
      "puts a card on the table\n",
      "puts a card on the table\n",
      "puts a card on the table\n",
      "puts a card on the table\n",
      "puts a card on the table\n"
     ]
    },
    {
     "name": "stderr",
     "output_type": "stream",
     "text": [
      "  3%|▎         | 61/2374 [00:01<01:24, 27.27it/s]"
     ]
    },
    {
     "name": "stdout",
     "output_type": "stream",
     "text": [
      "puts a card on the table\n"
     ]
    },
    {
     "name": "stderr",
     "output_type": "stream",
     "text": [
      "  3%|▎         | 64/2374 [00:02<01:27, 26.32it/s]"
     ]
    },
    {
     "name": "stdout",
     "output_type": "stream",
     "text": [
      "puts a card on the table\n",
      "puts a card on the table\n",
      "puts a card on the table\n",
      "puts a card on the table\n",
      "puts a card on the table\n"
     ]
    },
    {
     "name": "stderr",
     "output_type": "stream",
     "text": [
      "  3%|▎         | 67/2374 [00:02<01:24, 27.19it/s]"
     ]
    },
    {
     "name": "stdout",
     "output_type": "stream",
     "text": [
      "puts a card on the table\n"
     ]
    },
    {
     "name": "stderr",
     "output_type": "stream",
     "text": [
      "  3%|▎         | 71/2374 [00:02<01:21, 28.20it/s]"
     ]
    },
    {
     "name": "stdout",
     "output_type": "stream",
     "text": [
      "puts a card on the table\n",
      "puts a card on the table\n",
      "the man x places a card on the table with his right hand\n",
      "the man x places a card on the table with his right hand\n",
      "the man x places a card on the table with his right hand\n",
      "the man x places a card on the table with his right hand\n"
     ]
    },
    {
     "name": "stderr",
     "output_type": "stream",
     "text": [
      "  3%|▎         | 78/2374 [00:02<01:21, 28.20it/s]"
     ]
    },
    {
     "name": "stdout",
     "output_type": "stream",
     "text": [
      "the man x places a card on the table with his right hand\n",
      "the man x places a card on the table with his right hand\n",
      "the man x places a card on the table with his right hand\n",
      "the man x places a card on the table with his right hand\n",
      "the man x places a card on the table with his right hand\n",
      "the man x places a card on the table with his right hand\n"
     ]
    },
    {
     "name": "stderr",
     "output_type": "stream",
     "text": [
      "  3%|▎         | 82/2374 [00:02<01:18, 29.26it/s]"
     ]
    },
    {
     "name": "stdout",
     "output_type": "stream",
     "text": [
      "the man x places a card on the table with his right hand\n",
      "the man x places a card on the table with his right hand\n",
      "the man x places a card on the table with his right hand\n",
      "the man x places a card on the table with his right hand\n",
      "the man x places a card on the table with his right hand\n"
     ]
    },
    {
     "name": "stderr",
     "output_type": "stream",
     "text": [
      "  4%|▎         | 85/2374 [00:02<01:21, 28.06it/s]"
     ]
    },
    {
     "name": "stdout",
     "output_type": "stream",
     "text": [
      "the man x places a card on the table with his right hand\n"
     ]
    },
    {
     "name": "stderr",
     "output_type": "stream",
     "text": [
      "  4%|▎         | 88/2374 [00:02<01:26, 26.46it/s]"
     ]
    },
    {
     "name": "stdout",
     "output_type": "stream",
     "text": [
      "the man x places a card on the table with his right hand\n",
      "the man x places a card on the table with his right hand\n",
      "the man x places a card on the table with his right hand\n",
      "the man x places a card on the table with his right hand\n",
      "the man x places a card on the table with his right hand\n"
     ]
    },
    {
     "name": "stderr",
     "output_type": "stream",
     "text": [
      "  4%|▍         | 94/2374 [00:03<01:30, 25.32it/s]"
     ]
    },
    {
     "name": "stdout",
     "output_type": "stream",
     "text": [
      "the man x places a card on the table with his right hand\n",
      "the man x places a card on the table with his right hand\n",
      "the man x places a card on the table with his right hand\n",
      "man x moves the hand\n",
      "man x moves the hand\n",
      "man x moves the hand\n"
     ]
    },
    {
     "name": "stderr",
     "output_type": "stream",
     "text": [
      "  4%|▍         | 102/2374 [00:03<01:15, 30.14it/s]"
     ]
    },
    {
     "name": "stdout",
     "output_type": "stream",
     "text": [
      "places his hand on the table\n",
      "a lady x talks to c\n",
      "a lady x talks to c\n",
      "talks to man a\n",
      "person a picks the cards\n",
      "person a picks the cards\n",
      "person a picks the cards\n",
      "person a picks the cards\n",
      "person a picks the cards\n"
     ]
    },
    {
     "name": "stderr",
     "output_type": "stream",
     "text": [
      "  5%|▍         | 107/2374 [00:03<01:06, 34.11it/s]"
     ]
    },
    {
     "name": "stdout",
     "output_type": "stream",
     "text": [
      "person a picks the cards\n",
      "person a picks the cards\n",
      "person a picks the cards\n",
      "person a picks the cards\n",
      "person a picks the cards\n",
      "person a picks the cards\n"
     ]
    },
    {
     "name": "stderr",
     "output_type": "stream",
     "text": [
      "  5%|▍         | 112/2374 [00:03<01:01, 36.66it/s]"
     ]
    },
    {
     "name": "stdout",
     "output_type": "stream",
     "text": [
      "person a picks the cards\n",
      "person a picks the cards\n",
      "person a picks the cards\n"
     ]
    },
    {
     "name": "stderr",
     "output_type": "stream",
     "text": [
      "  5%|▍         | 117/2374 [00:03<00:57, 38.96it/s]"
     ]
    },
    {
     "name": "stdout",
     "output_type": "stream",
     "text": [
      "person a picks the cards\n",
      "person a picks the cards\n",
      "person a picks the cards\n",
      "person a picks the cards\n",
      "person a picks the cards\n",
      "person a picks the cards\n"
     ]
    },
    {
     "name": "stderr",
     "output_type": "stream",
     "text": [
      "  5%|▌         | 121/2374 [00:03<01:00, 37.00it/s]"
     ]
    },
    {
     "name": "stdout",
     "output_type": "stream",
     "text": [
      "person a picks the cards\n"
     ]
    },
    {
     "name": "stderr",
     "output_type": "stream",
     "text": [
      "  5%|▌         | 125/2374 [00:03<01:01, 36.46it/s]"
     ]
    },
    {
     "name": "stdout",
     "output_type": "stream",
     "text": [
      "person a picks the cards\n",
      "person a picks the cards\n",
      "person a picks the cards\n",
      "person a picks the cards\n",
      "woman x puts the card on the table\n",
      "woman x puts the card on the table\n",
      "woman x puts the card on the table\n",
      "woman x puts the card on the table\n"
     ]
    },
    {
     "name": "stderr",
     "output_type": "stream",
     "text": [
      "  5%|▌         | 130/2374 [00:04<00:56, 39.71it/s]"
     ]
    },
    {
     "name": "stdout",
     "output_type": "stream",
     "text": [
      "woman x puts the card on the table\n"
     ]
    },
    {
     "name": "stderr",
     "output_type": "stream",
     "text": [
      "  6%|▌         | 135/2374 [00:04<00:55, 40.44it/s]"
     ]
    },
    {
     "name": "stdout",
     "output_type": "stream",
     "text": [
      "woman x puts the card on the table\n",
      "woman x puts the card on the table\n",
      "woman x puts the card on the table\n",
      "woman x puts the card on the table\n",
      "woman x puts the card on the table\n",
      "woman x puts the card on the table\n",
      "woman x puts the card on the table\n",
      "woman x puts the card on the table\n"
     ]
    },
    {
     "name": "stderr",
     "output_type": "stream",
     "text": [
      "  6%|▌         | 144/2374 [00:04<00:56, 39.28it/s]"
     ]
    },
    {
     "name": "stdout",
     "output_type": "stream",
     "text": [
      "woman x puts the card on the table\n",
      "woman x puts the card on the table\n",
      "woman x puts the card on the table\n",
      "woman x puts the card on the table\n",
      "woman x puts the card on the table\n",
      "woman x puts the card on the table\n",
      "woman x puts the card on the table\n",
      "woman x puts the card on the table\n",
      "woman x puts the card on the table\n"
     ]
    },
    {
     "name": "stderr",
     "output_type": "stream",
     "text": [
      "  6%|▋         | 154/2374 [00:04<00:53, 41.19it/s]"
     ]
    },
    {
     "name": "stdout",
     "output_type": "stream",
     "text": [
      "woman x puts the card on the table\n",
      "woman x puts the card on the table\n",
      "woman x puts the card on the table\n",
      "woman x puts the card on the table\n",
      "woman x puts the card on the table\n",
      "woman x puts the card on the table\n",
      "woman x puts the card on the table\n",
      "woman x puts the card on the table\n",
      "woman x puts the card on the table\n"
     ]
    },
    {
     "name": "stderr",
     "output_type": "stream",
     "text": [
      "  7%|▋         | 166/2374 [00:04<00:46, 47.82it/s]"
     ]
    },
    {
     "name": "stdout",
     "output_type": "stream",
     "text": [
      "woman x puts the card on the table\n",
      "woman x puts the card on the table\n",
      "woman x puts the card on the table\n",
      "woman x puts the card on the table\n",
      "holds the paper\n",
      "holds the paper\n",
      "holds the paper\n",
      "holds the paper\n",
      "holds the paper\n",
      "stirs the ingredients\n",
      "puts the plate in the dish rack\n",
      "puts the plate in the dish rack\n"
     ]
    },
    {
     "name": "stderr",
     "output_type": "stream",
     "text": [
      "  7%|▋         | 173/2374 [00:04<00:41, 53.38it/s]"
     ]
    },
    {
     "name": "stdout",
     "output_type": "stream",
     "text": [
      "puts the chopsticks on the chopping board\n",
      "rinses the hand\n",
      "rinses the hand\n",
      "rinses the hand\n",
      "puts the lid on the container\n",
      "opens the fridge drawer\n",
      "opens the fridge drawer\n",
      "a lady x talks to c\n",
      "puts down the knife\n",
      "puts down the knife\n",
      "puts down the knife\n"
     ]
    },
    {
     "name": "stderr",
     "output_type": "stream",
     "text": [
      "  8%|▊         | 180/2374 [00:05<00:39, 56.00it/s]"
     ]
    },
    {
     "name": "stdout",
     "output_type": "stream",
     "text": [
      "cuts the plants with the cutter\n",
      "puts food on the  cooking pan\n",
      "puts food on the  cooking pan\n"
     ]
    },
    {
     "name": "stderr",
     "output_type": "stream",
     "text": [
      "  8%|▊         | 187/2374 [00:05<00:38, 57.09it/s]"
     ]
    },
    {
     "name": "stdout",
     "output_type": "stream",
     "text": [
      "puts food on the  cooking pan\n",
      "puts food on the  cooking pan\n",
      "puts food on the  cooking pan\n",
      "walks around\n",
      "walks around\n",
      "talks to man a\n",
      "opens the door\n",
      "opens the tap\n",
      "holds the paper\n",
      "holds the paper\n"
     ]
    },
    {
     "name": "stderr",
     "output_type": "stream",
     "text": [
      "  8%|▊         | 194/2374 [00:05<00:36, 59.60it/s]"
     ]
    },
    {
     "name": "stdout",
     "output_type": "stream",
     "text": [
      "holds the paper\n",
      "holds the paper\n",
      "picks up\n"
     ]
    },
    {
     "name": "stderr",
     "output_type": "stream",
     "text": [
      "  8%|▊         | 200/2374 [00:05<00:37, 57.34it/s]"
     ]
    },
    {
     "name": "stdout",
     "output_type": "stream",
     "text": [
      "picks up\n",
      "puts the wood on the wood cutting machine\n",
      "person a picks the cards\n",
      "holds the paper\n",
      "holds the paper\n",
      "moves the hand\n",
      "stirs the ingredients\n",
      "puts the chopsticks on the chopping board\n",
      "puts the chopsticks on the chopping board\n"
     ]
    },
    {
     "name": "stderr",
     "output_type": "stream",
     "text": [
      "  9%|▊         | 206/2374 [00:05<00:41, 51.81it/s]"
     ]
    },
    {
     "name": "stdout",
     "output_type": "stream",
     "text": [
      "puts the chopsticks on the chopping board\n",
      "puts the chopsticks on the chopping board\n",
      "puts the chopsticks on the chopping board\n",
      "puts the chopsticks on the chopping board\n",
      "pours the water in the sink\n",
      "pours the water in the sink\n",
      "puts the spoon in the bowl\n"
     ]
    },
    {
     "name": "stderr",
     "output_type": "stream",
     "text": [
      "  9%|▉         | 212/2374 [00:05<00:45, 47.04it/s]"
     ]
    },
    {
     "name": "stdout",
     "output_type": "stream",
     "text": [
      "rinses the hand\n"
     ]
    },
    {
     "name": "stderr",
     "output_type": "stream",
     "text": [
      "  9%|▉         | 217/2374 [00:05<00:49, 43.40it/s]"
     ]
    },
    {
     "name": "stdout",
     "output_type": "stream",
     "text": [
      "rinses the hand\n",
      "picks up\n",
      "picks up\n",
      "puts the pot on the cooker\n",
      "puts the pot on the cooker\n",
      "picks the piece of plants\n",
      "opens the fridge drawer\n",
      "opens the fridge drawer\n"
     ]
    },
    {
     "name": "stderr",
     "output_type": "stream",
     "text": [
      " 10%|▉         | 227/2374 [00:06<00:50, 42.41it/s]"
     ]
    },
    {
     "name": "stdout",
     "output_type": "stream",
     "text": [
      "opens the fridge drawer\n",
      "cuts the plants with the cutter\n",
      "cuts the plants with the cutter\n",
      "cuts the plants with the cutter\n",
      "cuts the plants with the cutter\n",
      "puts clothes on the hanger stand\n",
      "puts food on the  cooking pan\n",
      "puts food on the  cooking pan\n"
     ]
    },
    {
     "name": "stderr",
     "output_type": "stream",
     "text": [
      " 10%|▉         | 232/2374 [00:06<00:53, 40.26it/s]"
     ]
    },
    {
     "name": "stdout",
     "output_type": "stream",
     "text": [
      "puts food on the  cooking pan\n",
      "puts food on the  cooking pan\n",
      "puts the bowl on the bowls\n",
      "opens the door\n",
      "opens the tap\n",
      "opens the tap\n",
      "opens the tap\n",
      "opens the tap\n",
      "opens the tap\n"
     ]
    },
    {
     "name": "stderr",
     "output_type": "stream",
     "text": [
      " 10%|█         | 248/2374 [00:06<00:46, 46.10it/s]"
     ]
    },
    {
     "name": "stdout",
     "output_type": "stream",
     "text": [
      "holds the paper\n",
      "holds the paper\n",
      "holds the paper\n",
      "holds the paper\n",
      "holds the paper\n",
      "holds the paper\n",
      "holds the paper\n",
      "picks a plastic bag from the bag\n",
      "c c looks around\n",
      "c c looks around\n",
      "c c looks around\n"
     ]
    },
    {
     "name": "stderr",
     "output_type": "stream",
     "text": [
      " 11%|█         | 255/2374 [00:06<00:41, 51.50it/s]"
     ]
    },
    {
     "name": "stdout",
     "output_type": "stream",
     "text": [
      "c c looks around\n",
      "c c looks around\n",
      "c c looks around\n",
      "c c looks around\n",
      "c c looks around\n",
      "rinses the hand\n",
      "rinses the hand\n",
      "places his hand on the table\n",
      "places his hand on the table\n",
      "places his hand on the table\n",
      "puts the bowl on the bowls\n"
     ]
    },
    {
     "name": "stderr",
     "output_type": "stream",
     "text": [
      " 11%|█▏        | 268/2374 [00:06<00:39, 53.67it/s]"
     ]
    },
    {
     "name": "stdout",
     "output_type": "stream",
     "text": [
      "opens the tap\n",
      "holds the paper\n",
      "holds the paper\n",
      "holds the paper\n",
      "holds the paper\n",
      "holds the paper\n",
      "holds the paper\n",
      "holds the paper\n",
      "holds the paper\n",
      "holds the paper\n",
      "holds the paper\n",
      "holds the paper\n",
      "holds the paper\n",
      "places his hand on the table\n"
     ]
    },
    {
     "name": "stderr",
     "output_type": "stream",
     "text": [
      " 12%|█▏        | 282/2374 [00:07<00:35, 59.52it/s]"
     ]
    },
    {
     "name": "stdout",
     "output_type": "stream",
     "text": [
      "drops it on the floor\n",
      "holds the paper\n",
      "c c looks around\n",
      "sweeps the floor with a broom brush\n",
      "sweeps the floor with a broom brush\n",
      "sweeps the floor with a broom brush\n",
      "sweeps the floor with a broom brush\n",
      "puts the spoon in the bowl\n",
      "puts the spoon in the bowl\n",
      "rinses the hand\n",
      "rinses the hand\n",
      "rinses the hand\n",
      "rinses the hand\n"
     ]
    },
    {
     "name": "stderr",
     "output_type": "stream",
     "text": [
      " 12%|█▏        | 296/2374 [00:07<00:35, 59.15it/s]"
     ]
    },
    {
     "name": "stdout",
     "output_type": "stream",
     "text": [
      "rinses the hand\n",
      "rinses the hand\n",
      "picks up\n",
      "picks up\n",
      "picks up\n",
      "puts the pot on the cooker\n",
      "puts the pot on the cooker\n",
      "puts the pot on the cooker\n",
      "opens the fridge drawer\n",
      "moves the cloth\n",
      "drops it on the floor\n",
      "drops it on the floor\n"
     ]
    },
    {
     "name": "stderr",
     "output_type": "stream",
     "text": [
      " 13%|█▎        | 310/2374 [00:07<00:34, 59.15it/s]"
     ]
    },
    {
     "name": "stdout",
     "output_type": "stream",
     "text": [
      "drops it on the floor\n",
      "drops it on the floor\n",
      "drops it on the floor\n",
      "drops it on the floor\n",
      "drops it on the floor\n",
      "drops it on the floor\n",
      "drops it on the floor\n",
      "drops it on the floor\n",
      "drops it on the floor\n",
      "drops it on the floor\n",
      "drops it on the floor\n",
      "tightens the nut\n"
     ]
    },
    {
     "name": "stderr",
     "output_type": "stream",
     "text": [
      " 13%|█▎        | 317/2374 [00:07<00:34, 60.15it/s]"
     ]
    },
    {
     "name": "stdout",
     "output_type": "stream",
     "text": [
      "tightens the nut\n",
      "tightens the nut\n",
      "walks around\n",
      "opens the door\n",
      "opens the door\n",
      "opens the door\n",
      "opens the tap\n",
      "opens the tap\n",
      "holds the paper\n",
      "stirs the ingredients\n",
      "puts the plate in the dish rack\n",
      "puts the plate in the dish rack\n",
      "puts the chopsticks on the chopping board\n"
     ]
    },
    {
     "name": "stderr",
     "output_type": "stream",
     "text": [
      " 14%|█▍        | 331/2374 [00:07<00:33, 61.01it/s]"
     ]
    },
    {
     "name": "stdout",
     "output_type": "stream",
     "text": [
      "puts the chopsticks on the chopping board\n",
      "sweeps the floor with a broom brush\n",
      "puts the spoon in the bowl\n",
      "places his hand on the table\n",
      "places his hand on the table\n",
      "places his hand on the table\n",
      "opens the fridge drawer\n",
      "opens the fridge drawer\n",
      "puts down the knife\n",
      "cuts the plants with the cutter\n",
      "cuts the plants with the cutter\n",
      "walks around\n",
      "walks around\n"
     ]
    },
    {
     "name": "stderr",
     "output_type": "stream",
     "text": [
      " 15%|█▍        | 345/2374 [00:08<00:33, 60.23it/s]"
     ]
    },
    {
     "name": "stdout",
     "output_type": "stream",
     "text": [
      "walks around\n",
      "walks around\n",
      "walks around\n",
      "walks around\n",
      "walks around\n",
      "walks around\n",
      "walks around\n",
      "walks around\n",
      "puts the bowl on the bowls\n",
      "opens the door\n",
      "opens the door\n",
      "opens the door\n",
      "opens the tap\n"
     ]
    },
    {
     "name": "stderr",
     "output_type": "stream",
     "text": [
      " 15%|█▌        | 362/2374 [00:08<00:29, 68.85it/s]"
     ]
    },
    {
     "name": "stdout",
     "output_type": "stream",
     "text": [
      "opens the tap\n",
      "moves the cloth\n",
      "moves the cloth\n",
      "moves the cloth\n",
      "moves the cloth\n",
      "puts clothes on the hanger stand\n",
      "puts clothes on the hanger stand\n",
      "puts clothes on the hanger stand\n",
      "holds the paper\n",
      "holds the paper\n",
      "holds the paper\n",
      "puts down the knife\n",
      "puts down the knife\n",
      "puts down the knife\n",
      "puts down the knife\n",
      "cuts the plants with the cutter\n",
      "cuts the plants with the cutter\n"
     ]
    },
    {
     "name": "stderr",
     "output_type": "stream",
     "text": [
      " 16%|█▌        | 371/2374 [00:08<00:28, 70.81it/s]"
     ]
    },
    {
     "name": "stdout",
     "output_type": "stream",
     "text": [
      "cuts the plants with the cutter\n",
      "cuts the plants with the cutter\n",
      "holds the paper\n",
      "holds the paper\n",
      "picks a plastic bag from the bag\n",
      "picks a plastic bag from the bag\n",
      "picks a plastic bag from the bag\n",
      "picks a plastic bag from the bag\n",
      "picks a plastic bag from the bag\n",
      "puts the plate in the dish rack\n",
      "pours the water in the sink\n",
      "pours the water in the sink\n"
     ]
    },
    {
     "name": "stderr",
     "output_type": "stream",
     "text": [
      " 16%|█▋        | 386/2374 [00:08<00:32, 60.92it/s]"
     ]
    },
    {
     "name": "stdout",
     "output_type": "stream",
     "text": [
      "pours the water in the sink\n",
      "pours the water in the sink\n",
      "sweeps the floor with a broom brush\n",
      "sweeps the floor with a broom brush\n",
      "sweeps the floor with a broom brush\n",
      "sweeps the floor with a broom brush\n",
      "rinses the hand\n",
      "opens the fridge drawer\n",
      "puts down the knife\n",
      "moves forward\n",
      "moves forward\n",
      "moves forward\n",
      "moves forward\n"
     ]
    },
    {
     "name": "stderr",
     "output_type": "stream",
     "text": [
      " 17%|█▋        | 402/2374 [00:09<00:28, 68.79it/s]"
     ]
    },
    {
     "name": "stdout",
     "output_type": "stream",
     "text": [
      "moves forward\n",
      "moves forward\n",
      "holds the paper\n",
      "stirs the ingredients\n",
      "puts the chopsticks on the chopping board\n",
      "puts the chopsticks on the chopping board\n",
      "puts the spoon in the bowl\n",
      "picks up\n",
      "picks up\n",
      "picks up\n",
      "picks up\n",
      "drops it on the floor\n",
      "drops it on the floor\n",
      "drops it on the floor\n",
      "drops it on the floor\n",
      "cuts the plants with the cutter\n",
      "walks around\n"
     ]
    },
    {
     "name": "stderr",
     "output_type": "stream",
     "text": [
      " 17%|█▋        | 410/2374 [00:09<00:29, 66.48it/s]"
     ]
    },
    {
     "name": "stdout",
     "output_type": "stream",
     "text": [
      "puts the bowl on the bowls\n",
      "holds the paper\n",
      "holds the paper\n",
      "picks a plastic bag from the bag\n",
      "pours the water in the sink\n",
      "sweeps the floor with a broom brush\n"
     ]
    },
    {
     "name": "stderr",
     "output_type": "stream",
     "text": [
      " 18%|█▊        | 417/2374 [00:09<00:39, 49.92it/s]"
     ]
    },
    {
     "name": "stdout",
     "output_type": "stream",
     "text": [
      "sweeps the floor with a broom brush\n",
      "sweeps the floor with a broom brush\n",
      "sweeps the floor with a broom brush\n",
      "sweeps the floor with a broom brush\n",
      "sweeps the floor with a broom brush\n",
      "sweeps the floor with a broom brush\n",
      "sweeps the floor with a broom brush\n"
     ]
    },
    {
     "name": "stderr",
     "output_type": "stream",
     "text": [
      " 18%|█▊        | 423/2374 [00:09<00:43, 44.49it/s]"
     ]
    },
    {
     "name": "stdout",
     "output_type": "stream",
     "text": [
      "sweeps the floor with a broom brush\n",
      "sweeps the floor with a broom brush\n",
      "sweeps the floor with a broom brush\n",
      "sweeps the floor with a broom brush\n",
      "sweeps the floor with a broom brush\n"
     ]
    },
    {
     "name": "stderr",
     "output_type": "stream",
     "text": [
      " 18%|█▊        | 428/2374 [00:09<00:52, 36.77it/s]"
     ]
    },
    {
     "name": "stdout",
     "output_type": "stream",
     "text": [
      "sweeps the floor with a broom brush\n",
      "sweeps the floor with a broom brush\n",
      "sweeps the floor with a broom brush\n",
      "sweeps the floor with a broom brush\n",
      "sweeps the floor with a broom brush\n",
      "sweeps the floor with a broom brush\n"
     ]
    },
    {
     "name": "stderr",
     "output_type": "stream",
     "text": [
      " 18%|█▊        | 437/2374 [00:10<00:58, 33.10it/s]"
     ]
    },
    {
     "name": "stdout",
     "output_type": "stream",
     "text": [
      "sweeps the floor with a broom brush\n",
      "sweeps the floor with a broom brush\n",
      "sweeps the floor with a broom brush\n",
      "sweeps the floor with a broom brush\n",
      "sweeps the floor with a broom brush\n",
      "sweeps the floor with a broom brush\n",
      "sweeps the floor with a broom brush\n"
     ]
    },
    {
     "name": "stderr",
     "output_type": "stream",
     "text": [
      " 19%|█▊        | 441/2374 [00:10<00:59, 32.51it/s]"
     ]
    },
    {
     "name": "stdout",
     "output_type": "stream",
     "text": [
      "sweeps the floor with a broom brush\n",
      "sweeps the floor with a broom brush\n",
      "picks up\n",
      "opens the fridge drawer\n",
      "opens the fridge drawer\n"
     ]
    },
    {
     "name": "stderr",
     "output_type": "stream",
     "text": [
      " 19%|█▉        | 449/2374 [00:10<01:13, 26.17it/s]"
     ]
    },
    {
     "name": "stdout",
     "output_type": "stream",
     "text": [
      "opens the fridge drawer\n",
      "opens the fridge drawer\n",
      "opens the fridge drawer\n",
      "puts clothes on the hanger stand\n",
      "moves forward\n"
     ]
    },
    {
     "name": "stderr",
     "output_type": "stream",
     "text": [
      " 19%|█▉        | 458/2374 [00:10<00:57, 33.09it/s]"
     ]
    },
    {
     "name": "stdout",
     "output_type": "stream",
     "text": [
      "tightens the nut\n",
      "tightens the nut\n",
      "walks around\n",
      "holds the paper\n",
      "puts the lid on the container\n",
      "puts the lid on the container\n",
      "puts the lid on the container\n",
      "puts the lid on the container\n",
      "puts down the knife\n"
     ]
    },
    {
     "name": "stderr",
     "output_type": "stream",
     "text": [
      " 20%|█▉        | 465/2374 [00:10<00:47, 40.53it/s]"
     ]
    },
    {
     "name": "stdout",
     "output_type": "stream",
     "text": [
      "puts down the knife\n",
      "puts down the knife\n",
      "holds the paper\n",
      "holds the paper\n",
      "holds the paper\n",
      "holds the paper\n",
      "picks up\n",
      "dips the brush in the paint\n",
      "dips the brush in the paint\n",
      "dips the brush in the paint\n",
      "dips the brush in the paint\n",
      "dips the brush in the paint\n",
      "dips the brush in the paint\n",
      "dips the brush in the paint\n",
      "dips the brush in the paint\n"
     ]
    },
    {
     "name": "stderr",
     "output_type": "stream",
     "text": [
      " 20%|██        | 482/2374 [00:11<00:32, 57.77it/s]"
     ]
    },
    {
     "name": "stdout",
     "output_type": "stream",
     "text": [
      "dips the brush in the paint\n",
      "dips the brush in the paint\n",
      "dips the brush in the paint\n",
      "dips the brush in the paint\n",
      "dips the brush in the paint\n",
      "dips the brush in the paint\n",
      "dips the brush in the paint\n",
      "dips the brush in the paint\n",
      "dips the brush in the paint\n",
      "dips the brush in the paint\n",
      "dips the brush in the paint\n",
      "holds the paper\n",
      "drops it on the floor\n",
      "walks around\n",
      "holds the paper\n"
     ]
    },
    {
     "name": "stderr",
     "output_type": "stream",
     "text": [
      " 21%|██        | 498/2374 [00:11<00:27, 67.26it/s]"
     ]
    },
    {
     "name": "stdout",
     "output_type": "stream",
     "text": [
      "picks a plastic bag from the bag\n",
      "picks a plastic bag from the bag\n",
      "c c looks around\n",
      "picks up\n",
      "puts the lid on the container\n",
      "puts the lid on the container\n",
      "picks the piece of plants\n",
      "picks the piece of plants\n",
      "picks the piece of plants\n",
      "picks the piece of plants\n",
      "picks the piece of plants\n",
      "puts down the knife\n",
      "puts down the knife\n",
      "puts down the knife\n",
      "puts down the knife\n",
      "cuts the plants with the cutter\n"
     ]
    },
    {
     "name": "stderr",
     "output_type": "stream",
     "text": [
      " 22%|██▏       | 513/2374 [00:11<00:26, 69.60it/s]"
     ]
    },
    {
     "name": "stdout",
     "output_type": "stream",
     "text": [
      "cuts the plants with the cutter\n",
      "cuts the plants with the cutter\n",
      "cuts the plants with the cutter\n",
      "cuts the plants with the cutter\n",
      "moves forward\n",
      "tightens the nut\n",
      "walks around\n",
      "holds the paper\n",
      "picks up\n",
      "moves the cloth\n",
      "moves the cloth\n",
      "moves the cloth\n",
      "moves the cloth\n",
      "moves the cloth\n",
      "moves the cloth\n",
      "moves the cloth\n"
     ]
    },
    {
     "name": "stderr",
     "output_type": "stream",
     "text": [
      " 22%|██▏       | 530/2374 [00:11<00:28, 64.28it/s]"
     ]
    },
    {
     "name": "stdout",
     "output_type": "stream",
     "text": [
      "moves the cloth\n",
      "moves the cloth\n",
      "moves the cloth\n",
      "moves the cloth\n",
      "moves forward\n",
      "walks around\n",
      "holds the paper\n",
      "holds the paper\n",
      "pours the water in the sink\n",
      "pours the water in the sink\n",
      "pours the water in the sink\n"
     ]
    },
    {
     "name": "stderr",
     "output_type": "stream",
     "text": [
      " 23%|██▎       | 537/2374 [00:12<00:31, 57.86it/s]"
     ]
    },
    {
     "name": "stdout",
     "output_type": "stream",
     "text": [
      "pours the water in the sink\n",
      "sweeps the floor with a broom brush\n",
      "rinses the hand\n",
      "puts down the knife\n",
      "moves forward\n",
      "moves forward\n",
      "moves forward\n",
      "walks around\n",
      "walks around\n"
     ]
    },
    {
     "name": "stderr",
     "output_type": "stream",
     "text": [
      " 23%|██▎       | 544/2374 [00:12<00:36, 49.70it/s]"
     ]
    },
    {
     "name": "stdout",
     "output_type": "stream",
     "text": [
      "opens the tap\n",
      "holds the paper\n",
      "c c looks around\n",
      "c c looks around\n",
      "c c looks around\n",
      "c c looks around\n"
     ]
    },
    {
     "name": "stderr",
     "output_type": "stream",
     "text": [
      " 23%|██▎       | 550/2374 [00:12<00:44, 41.05it/s]"
     ]
    },
    {
     "name": "stdout",
     "output_type": "stream",
     "text": [
      "c c looks around\n",
      "c c looks around\n",
      "c c looks around\n",
      "c c looks around\n",
      "c c looks around\n"
     ]
    },
    {
     "name": "stderr",
     "output_type": "stream",
     "text": [
      " 23%|██▎       | 555/2374 [00:12<00:51, 35.53it/s]"
     ]
    },
    {
     "name": "stdout",
     "output_type": "stream",
     "text": [
      "c c looks around\n",
      "c c looks around\n",
      "c c looks around\n",
      "holds the paper\n",
      "sweeps the floor with a broom brush\n",
      "sweeps the floor with a broom brush\n",
      "sweeps the floor with a broom brush\n",
      "sweeps the floor with a broom brush\n",
      "sweeps the floor with a broom brush\n"
     ]
    },
    {
     "name": "stderr",
     "output_type": "stream",
     "text": [
      " 24%|██▍       | 570/2374 [00:12<00:36, 48.90it/s]"
     ]
    },
    {
     "name": "stdout",
     "output_type": "stream",
     "text": [
      "sweeps the floor with a broom brush\n",
      "sweeps the floor with a broom brush\n",
      "sweeps the floor with a broom brush\n",
      "sweeps the floor with a broom brush\n",
      "sweeps the floor with a broom brush\n",
      "sweeps the floor with a broom brush\n",
      "sweeps the floor with a broom brush\n",
      "sweeps the floor with a broom brush\n",
      "sweeps the floor with a broom brush\n",
      "sweeps the floor with a broom brush\n",
      "sweeps the floor with a broom brush\n",
      "sweeps the floor with a broom brush\n",
      "sweeps the floor with a broom brush\n",
      "sweeps the floor with a broom brush\n",
      "holds the paper\n",
      "moves the hand\n"
     ]
    },
    {
     "name": "stderr",
     "output_type": "stream",
     "text": [
      " 25%|██▍       | 585/2374 [00:13<00:31, 57.41it/s]"
     ]
    },
    {
     "name": "stdout",
     "output_type": "stream",
     "text": [
      "picks a plastic bag from the bag\n",
      "picks a plastic bag from the bag\n",
      "picks up\n",
      "places his hand on the table\n",
      "places his hand on the table\n",
      "places his hand on the table\n",
      "puts the lid on the container\n",
      "picks the piece of plants\n",
      "picks the piece of plants\n",
      "picks the piece of plants\n",
      "picks the piece of plants\n",
      "picks the piece of plants\n",
      "picks the piece of plants\n"
     ]
    },
    {
     "name": "stderr",
     "output_type": "stream",
     "text": [
      " 25%|██▍       | 592/2374 [00:13<00:32, 54.46it/s]"
     ]
    },
    {
     "name": "stdout",
     "output_type": "stream",
     "text": [
      "holds the paper\n",
      "picks a plastic bag from the bag\n",
      "stirs the ingredients\n",
      "puts the plate in the dish rack\n",
      "puts the plate in the dish rack\n",
      "puts the plate in the dish rack\n",
      "puts the chopsticks on the chopping board\n"
     ]
    },
    {
     "name": "stderr",
     "output_type": "stream",
     "text": [
      " 25%|██▌       | 604/2374 [00:13<00:39, 44.39it/s]"
     ]
    },
    {
     "name": "stdout",
     "output_type": "stream",
     "text": [
      "puts the chopsticks on the chopping board\n",
      "puts the chopsticks on the chopping board\n",
      "puts the chopsticks on the chopping board\n",
      "puts the chopsticks on the chopping board\n",
      "puts the chopsticks on the chopping board\n",
      "pours the water in the sink\n",
      "pours the water in the sink\n",
      "pours the water in the sink\n"
     ]
    },
    {
     "name": "stderr",
     "output_type": "stream",
     "text": [
      " 26%|██▌       | 609/2374 [00:13<00:40, 43.36it/s]"
     ]
    },
    {
     "name": "stdout",
     "output_type": "stream",
     "text": [
      "pours the water in the sink\n",
      "sweeps the floor with a broom brush\n",
      "rinses the hand\n",
      "rinses the hand\n",
      "rinses the hand\n",
      "puts the lid on the container\n",
      "puts the pot on the cooker\n",
      "puts the pot on the cooker\n"
     ]
    },
    {
     "name": "stderr",
     "output_type": "stream",
     "text": [
      " 26%|██▌       | 619/2374 [00:13<00:43, 40.43it/s]"
     ]
    },
    {
     "name": "stdout",
     "output_type": "stream",
     "text": [
      "opens the fridge drawer\n",
      "opens the fridge drawer\n",
      "opens the fridge drawer\n",
      "opens the fridge drawer\n",
      "opens the fridge drawer\n",
      "opens the fridge drawer\n",
      "opens the fridge drawer\n",
      "opens the fridge drawer\n",
      "opens the fridge drawer\n"
     ]
    },
    {
     "name": "stderr",
     "output_type": "stream",
     "text": [
      " 26%|██▋       | 624/2374 [00:14<00:42, 41.30it/s]"
     ]
    },
    {
     "name": "stdout",
     "output_type": "stream",
     "text": [
      "opens the fridge drawer\n",
      "opens the fridge drawer\n",
      "opens the fridge drawer\n",
      "moves the cloth\n",
      "puts down the knife\n",
      "puts down the knife\n",
      "puts down the knife\n"
     ]
    },
    {
     "name": "stderr",
     "output_type": "stream",
     "text": [
      " 27%|██▋       | 633/2374 [00:14<00:45, 38.66it/s]"
     ]
    },
    {
     "name": "stdout",
     "output_type": "stream",
     "text": [
      "puts down the knife\n",
      "moves forward\n",
      "moves forward\n",
      "tightens the nut\n",
      "picks up the tin\n",
      "picks up the tin\n",
      "picks up the tin\n"
     ]
    },
    {
     "name": "stderr",
     "output_type": "stream",
     "text": [
      " 27%|██▋       | 641/2374 [00:14<00:49, 35.10it/s]"
     ]
    },
    {
     "name": "stdout",
     "output_type": "stream",
     "text": [
      "picks up the tin\n",
      "picks up the tin\n",
      "opens the tap\n",
      "opens the tap\n",
      "opens the tap\n",
      "opens the tap\n",
      "opens the tap\n",
      "opens the tap\n"
     ]
    },
    {
     "name": "stderr",
     "output_type": "stream",
     "text": [
      " 28%|██▊       | 653/2374 [00:14<00:37, 46.21it/s]"
     ]
    },
    {
     "name": "stdout",
     "output_type": "stream",
     "text": [
      "opens the tap\n",
      "opens the tap\n",
      "holds the paper\n",
      "dips the brush in the paint\n",
      "dips the brush in the paint\n",
      "dips the brush in the paint\n",
      "dips the brush in the paint\n",
      "dips the brush in the paint\n",
      "dips the brush in the paint\n",
      "dips the brush in the paint\n",
      "dips the brush in the paint\n",
      "puts the wood on the wood cutting machine\n",
      "holds the paper\n"
     ]
    },
    {
     "name": "stderr",
     "output_type": "stream",
     "text": [
      " 28%|██▊       | 668/2374 [00:14<00:30, 56.22it/s]"
     ]
    },
    {
     "name": "stdout",
     "output_type": "stream",
     "text": [
      "puts the plate in the dish rack\n",
      "puts the plate in the dish rack\n",
      "puts the plate in the dish rack\n",
      "puts the plate in the dish rack\n",
      "pours the water in the sink\n",
      "pours the water in the sink\n",
      "pours the water in the sink\n",
      "pours the water in the sink\n",
      "pours the water in the sink\n",
      "puts the spoon in the bowl\n",
      "rinses the hand\n",
      "rinses the hand\n",
      "picks up\n",
      "picks up\n"
     ]
    },
    {
     "name": "stderr",
     "output_type": "stream",
     "text": [
      " 29%|██▉       | 683/2374 [00:15<00:26, 63.91it/s]"
     ]
    },
    {
     "name": "stdout",
     "output_type": "stream",
     "text": [
      "opens the fridge drawer\n",
      "opens the fridge drawer\n",
      "dips the brush in the paint\n",
      "puts clothes on the hanger stand\n",
      "tightens the nut\n",
      "tightens the nut\n",
      "tightens the nut\n",
      "tightens the nut\n",
      "walks around\n",
      "walks around\n",
      "walks around\n",
      "walks around\n",
      "walks around\n",
      "walks around\n",
      "opens the tap\n"
     ]
    },
    {
     "name": "stderr",
     "output_type": "stream",
     "text": [
      " 29%|██▉       | 690/2374 [00:15<00:27, 62.15it/s]"
     ]
    },
    {
     "name": "stdout",
     "output_type": "stream",
     "text": [
      "opens the tap\n",
      "opens the tap\n",
      "holds the paper\n",
      "holds the paper\n",
      "moves the hand\n",
      "moves the hand\n",
      "moves the hand\n",
      "moves the hand\n",
      "moves the hand\n",
      "moves the hand\n"
     ]
    },
    {
     "name": "stderr",
     "output_type": "stream",
     "text": [
      " 30%|██▉       | 703/2374 [00:15<00:32, 51.72it/s]"
     ]
    },
    {
     "name": "stdout",
     "output_type": "stream",
     "text": [
      "moves the hand\n",
      "moves the hand\n",
      "moves the hand\n",
      "moves the hand\n",
      "picks a plastic bag from the bag\n",
      "puts the plate in the dish rack\n",
      "puts the chopsticks on the chopping board\n",
      "pours the water in the sink\n",
      "pours the water in the sink\n"
     ]
    },
    {
     "name": "stderr",
     "output_type": "stream",
     "text": [
      " 30%|██▉       | 709/2374 [00:15<00:34, 48.42it/s]"
     ]
    },
    {
     "name": "stdout",
     "output_type": "stream",
     "text": [
      "puts the spoon in the bowl\n",
      "rinses the hand\n",
      "rinses the hand\n",
      "rinses the hand\n",
      "rinses the hand\n",
      "puts the lid on the container\n",
      "puts the lid on the container\n",
      "puts the lid on the container\n",
      "puts the lid on the container\n"
     ]
    },
    {
     "name": "stderr",
     "output_type": "stream",
     "text": [
      " 30%|███       | 719/2374 [00:15<00:35, 46.75it/s]"
     ]
    },
    {
     "name": "stdout",
     "output_type": "stream",
     "text": [
      "puts the lid on the container\n",
      "puts the lid on the container\n",
      "puts the lid on the container\n",
      "opens the fridge drawer\n",
      "opens the fridge drawer\n",
      "opens the fridge drawer\n",
      "opens the fridge drawer\n",
      "drops it on the floor\n",
      "drops it on the floor\n",
      "drops it on the floor\n"
     ]
    },
    {
     "name": "stderr",
     "output_type": "stream",
     "text": [
      " 31%|███       | 730/2374 [00:16<00:34, 47.43it/s]"
     ]
    },
    {
     "name": "stdout",
     "output_type": "stream",
     "text": [
      "drops it on the floor\n",
      "cuts the plants with the cutter\n",
      "cuts the plants with the cutter\n",
      "cuts the plants with the cutter\n",
      "walks around\n",
      "walks around\n",
      "walks around\n",
      "walks around\n",
      "puts the bowl on the bowls\n",
      "puts the bowl on the bowls\n"
     ]
    },
    {
     "name": "stderr",
     "output_type": "stream",
     "text": [
      " 31%|███       | 741/2374 [00:16<00:34, 47.13it/s]"
     ]
    },
    {
     "name": "stdout",
     "output_type": "stream",
     "text": [
      "puts the bowl on the bowls\n",
      "puts the bowl on the bowls\n",
      "puts the bowl on the bowls\n",
      "puts the bowl on the bowls\n",
      "opens the door\n",
      "opens the door\n",
      "opens the door\n",
      "opens the tap\n",
      "opens the tap\n",
      "holds the paper\n"
     ]
    },
    {
     "name": "stderr",
     "output_type": "stream",
     "text": [
      " 32%|███▏      | 751/2374 [00:16<00:34, 47.45it/s]"
     ]
    },
    {
     "name": "stdout",
     "output_type": "stream",
     "text": [
      "stirs the ingredients\n",
      "stirs the ingredients\n",
      "stirs the ingredients\n",
      "puts the plate in the dish rack\n",
      "puts the plate in the dish rack\n",
      "puts the chopsticks on the chopping board\n",
      "puts the chopsticks on the chopping board\n",
      "puts the chopsticks on the chopping board\n",
      "puts the chopsticks on the chopping board\n",
      "puts the chopsticks on the chopping board\n"
     ]
    },
    {
     "name": "stderr",
     "output_type": "stream",
     "text": [
      " 32%|███▏      | 762/2374 [00:16<00:35, 45.82it/s]"
     ]
    },
    {
     "name": "stdout",
     "output_type": "stream",
     "text": [
      "puts the chopsticks on the chopping board\n",
      "puts the chopsticks on the chopping board\n",
      "puts the chopsticks on the chopping board\n",
      "puts the spoon in the bowl\n",
      "puts the spoon in the bowl\n",
      "puts the spoon in the bowl\n",
      "puts the spoon in the bowl\n",
      "puts the spoon in the bowl\n",
      "puts the spoon in the bowl\n"
     ]
    },
    {
     "name": "stderr",
     "output_type": "stream",
     "text": [
      " 32%|███▏      | 767/2374 [00:17<00:36, 43.98it/s]"
     ]
    },
    {
     "name": "stdout",
     "output_type": "stream",
     "text": [
      "puts the spoon in the bowl\n",
      "puts the spoon in the bowl\n",
      "puts the spoon in the bowl\n",
      "rinses the hand\n",
      "rinses the hand\n",
      "rinses the hand\n",
      "picks up\n",
      "picks up\n",
      "puts the pot on the cooker\n",
      "puts the pot on the cooker\n"
     ]
    },
    {
     "name": "stderr",
     "output_type": "stream",
     "text": [
      " 33%|███▎      | 778/2374 [00:17<00:33, 47.07it/s]"
     ]
    },
    {
     "name": "stdout",
     "output_type": "stream",
     "text": [
      "puts the pot on the cooker\n",
      "puts the pot on the cooker\n",
      "puts the pot on the cooker\n",
      "puts the pot on the cooker\n",
      "puts the pot on the cooker\n",
      "puts the pot on the cooker\n",
      "puts the pot on the cooker\n",
      "puts the pot on the cooker\n",
      "puts the pot on the cooker\n",
      "puts the pot on the cooker\n",
      "puts the pot on the cooker\n"
     ]
    },
    {
     "name": "stderr",
     "output_type": "stream",
     "text": [
      " 33%|███▎      | 791/2374 [00:17<00:30, 51.47it/s]"
     ]
    },
    {
     "name": "stdout",
     "output_type": "stream",
     "text": [
      "puts the pot on the cooker\n",
      "puts the pot on the cooker\n",
      "picks the piece of plants\n",
      "picks the piece of plants\n",
      "picks the piece of plants\n",
      "picks the piece of plants\n",
      "opens the fridge drawer\n",
      "opens the fridge drawer\n",
      "opens the fridge drawer\n",
      "moves the cloth\n",
      "moves the cloth\n"
     ]
    },
    {
     "name": "stderr",
     "output_type": "stream",
     "text": [
      " 34%|███▍      | 803/2374 [00:17<00:29, 53.17it/s]"
     ]
    },
    {
     "name": "stdout",
     "output_type": "stream",
     "text": [
      "drops it on the floor\n",
      "puts down the knife\n",
      "puts down the knife\n",
      "puts down the knife\n",
      "puts down the knife\n",
      "puts down the knife\n",
      "puts down the knife\n",
      "puts down the knife\n",
      "puts down the knife\n",
      "puts down the knife\n",
      "cuts the plants with the cutter\n",
      "cuts the plants with the cutter\n"
     ]
    },
    {
     "name": "stderr",
     "output_type": "stream",
     "text": [
      " 34%|███▍      | 815/2374 [00:17<00:29, 52.65it/s]"
     ]
    },
    {
     "name": "stdout",
     "output_type": "stream",
     "text": [
      "cuts the plants with the cutter\n",
      "cuts the plants with the cutter\n",
      "cuts the plants with the cutter\n",
      "cuts the plants with the cutter\n",
      "cuts the plants with the cutter\n",
      "cuts the plants with the cutter\n",
      "opens the door\n",
      "opens the door\n",
      "picks up the tin\n",
      "picks up the tin\n"
     ]
    },
    {
     "name": "stderr",
     "output_type": "stream",
     "text": [
      " 35%|███▍      | 821/2374 [00:18<00:31, 48.96it/s]"
     ]
    },
    {
     "name": "stdout",
     "output_type": "stream",
     "text": [
      "picks up the tin\n",
      "picks up the tin\n",
      "picks up the tin\n",
      "picks up the tin\n",
      "picks up the tin\n",
      "picks up the tin\n",
      "picks up the tin\n",
      "opens the tap\n",
      "opens the tap\n"
     ]
    },
    {
     "name": "stderr",
     "output_type": "stream",
     "text": [
      " 35%|███▌      | 836/2374 [00:18<00:25, 60.93it/s]"
     ]
    },
    {
     "name": "stdout",
     "output_type": "stream",
     "text": [
      "opens the tap\n",
      "places his hand on the table\n",
      "holds the paper\n",
      "holds the paper\n",
      "holds the paper\n",
      "puts the wood on the wood cutting machine\n",
      "puts the wood on the wood cutting machine\n",
      "puts the wood on the wood cutting machine\n",
      "puts the wood on the wood cutting machine\n",
      "puts the wood on the wood cutting machine\n",
      "puts the wood on the wood cutting machine\n",
      "puts the wood on the wood cutting machine\n",
      "puts off the rice grinder with her right hand\n",
      "puts off the rice grinder with her right hand\n",
      "puts off the rice grinder with her right hand\n",
      "puts off the rice grinder with her right hand\n",
      "holds the paper\n",
      "holds the paper\n"
     ]
    },
    {
     "name": "stderr",
     "output_type": "stream",
     "text": [
      " 36%|███▌      | 851/2374 [00:18<00:23, 65.12it/s]"
     ]
    },
    {
     "name": "stdout",
     "output_type": "stream",
     "text": [
      "picks a plastic bag from the bag\n",
      "picks a plastic bag from the bag\n",
      "puts the chopsticks on the chopping board\n",
      "puts the chopsticks on the chopping board\n",
      "puts the spoon in the bowl\n",
      "puts the lid on the container\n",
      "cuts the plants with the cutter\n",
      "cuts the plants with the cutter\n",
      "walks around\n",
      "puts the bowl on the bowls\n",
      "puts the bowl on the bowls\n",
      "puts the bowl on the bowls\n",
      "puts the bowl on the bowls\n",
      "puts the bowl on the bowls\n"
     ]
    },
    {
     "name": "stderr",
     "output_type": "stream",
     "text": [
      " 37%|███▋      | 867/2374 [00:18<00:21, 69.08it/s]"
     ]
    },
    {
     "name": "stdout",
     "output_type": "stream",
     "text": [
      "holds the paper\n",
      "places his hand on the table\n",
      "holds the paper\n",
      "puts down the knife\n",
      "puts down the knife\n",
      "holds the paper\n",
      "picks up\n",
      "drops it on the floor\n",
      "moves forward\n",
      "moves forward\n",
      "moves forward\n",
      "tightens the nut\n",
      "tightens the nut\n",
      "tightens the nut\n",
      "tightens the nut\n",
      "holds the paper\n"
     ]
    },
    {
     "name": "stderr",
     "output_type": "stream",
     "text": [
      " 37%|███▋      | 881/2374 [00:18<00:22, 66.62it/s]"
     ]
    },
    {
     "name": "stdout",
     "output_type": "stream",
     "text": [
      "places his hand on the table\n",
      "picks the piece of plants\n",
      "picks the piece of plants\n",
      "puts down the knife\n",
      "moves forward\n",
      "walks around\n",
      "holds the paper\n",
      "puts the wood on the wood cutting machine\n",
      "puts the wood on the wood cutting machine\n",
      "moves the hand\n",
      "picks a plastic bag from the bag\n",
      "puts the plate in the dish rack\n",
      "puts the plate in the dish rack\n",
      "rinses the hand\n",
      "rinses the hand\n",
      "picks up\n"
     ]
    },
    {
     "name": "stderr",
     "output_type": "stream",
     "text": [
      " 38%|███▊      | 899/2374 [00:19<00:20, 73.60it/s]"
     ]
    },
    {
     "name": "stdout",
     "output_type": "stream",
     "text": [
      "puts the lid on the container\n",
      "puts the lid on the container\n",
      "opens the fridge drawer\n",
      "puts down the knife\n",
      "dips the brush in the paint\n",
      "moves forward\n",
      "moves forward\n",
      "puts food on the  cooking pan\n",
      "puts food on the  cooking pan\n",
      "opens the door\n",
      "opens the door\n",
      "opens the door\n",
      "opens the door\n",
      "opens the door\n",
      "opens the door\n"
     ]
    },
    {
     "name": "stderr",
     "output_type": "stream",
     "text": [
      " 39%|███▊      | 915/2374 [00:19<00:20, 71.08it/s]"
     ]
    },
    {
     "name": "stdout",
     "output_type": "stream",
     "text": [
      "opens the tap\n",
      "moves the hand\n",
      "moves the hand\n",
      "moves the hand\n",
      "moves the hand\n",
      "scoops some sand from the ground with his hands\n",
      "scoops some sand from the ground with his hands\n",
      "scoops some sand from the ground with his hands\n",
      "scoops some sand from the ground with his hands\n",
      "scoops some sand from the ground with his hands\n",
      "picks the piece of plants\n",
      "picks the piece of plants\n",
      "picks the piece of plants\n"
     ]
    },
    {
     "name": "stderr",
     "output_type": "stream",
     "text": [
      " 39%|███▉      | 923/2374 [00:19<00:22, 65.89it/s]"
     ]
    },
    {
     "name": "stdout",
     "output_type": "stream",
     "text": [
      "picks the piece of plants\n",
      "picks the piece of plants\n",
      "picks the piece of plants\n",
      "picks the piece of plants\n",
      "picks the piece of plants\n",
      "picks the piece of plants\n",
      "drops it on the floor\n",
      "cuts the grass\n",
      "cuts the grass\n",
      "cuts the grass\n",
      "cuts the grass\n",
      "moves forward\n",
      "moves forward\n"
     ]
    },
    {
     "name": "stderr",
     "output_type": "stream",
     "text": [
      " 39%|███▉      | 937/2374 [00:19<00:22, 65.04it/s]"
     ]
    },
    {
     "name": "stdout",
     "output_type": "stream",
     "text": [
      "walks around\n",
      "moves the hand\n",
      "moves the hand\n",
      "moves the hand\n",
      "moves the hand\n",
      "tightens the nut\n",
      "moves the hand\n",
      "picks the piece of plants\n",
      "moves forward\n",
      "moves the hand\n",
      "moves the hand\n",
      "moves the hand\n",
      "tightens the nut\n",
      "tightens the nut\n",
      "tightens the nut\n"
     ]
    },
    {
     "name": "stderr",
     "output_type": "stream",
     "text": [
      " 40%|████      | 955/2374 [00:19<00:19, 73.56it/s]"
     ]
    },
    {
     "name": "stdout",
     "output_type": "stream",
     "text": [
      "tightens the nut\n",
      "tightens the nut\n",
      "tightens the nut\n",
      "tightens the nut\n",
      "tightens the nut\n",
      "tightens the nut\n",
      "tightens the nut\n",
      "tightens the nut\n",
      "walks around\n",
      "walks around\n",
      "moves the hand\n",
      "moves the hand\n",
      "scoops some sand from the ground with his hands\n",
      "picks the piece of plants\n",
      "picks the piece of plants\n"
     ]
    },
    {
     "name": "stderr",
     "output_type": "stream",
     "text": [
      " 41%|████      | 971/2374 [00:20<00:20, 67.56it/s]"
     ]
    },
    {
     "name": "stdout",
     "output_type": "stream",
     "text": [
      "picks the piece of plants\n",
      "picks the piece of plants\n",
      "picks the piece of plants\n",
      "picks the piece of plants\n",
      "picks the piece of plants\n",
      "picks the piece of plants\n",
      "puts down the knife\n",
      "puts down the knife\n",
      "walks around\n",
      "puts the bowl on the bowls\n",
      "picks up the tin\n",
      "moves the hand\n"
     ]
    },
    {
     "name": "stderr",
     "output_type": "stream",
     "text": [
      " 41%|████      | 978/2374 [00:20<00:26, 53.23it/s]"
     ]
    },
    {
     "name": "stdout",
     "output_type": "stream",
     "text": [
      "puts the plate in the dish rack\n",
      "puts the plate in the dish rack\n",
      "puts the plate in the dish rack\n",
      "pours the water in the sink\n",
      "puts the spoon in the bowl\n",
      "puts the spoon in the bowl\n",
      "puts the spoon in the bowl\n"
     ]
    },
    {
     "name": "stderr",
     "output_type": "stream",
     "text": [
      " 41%|████▏     | 984/2374 [00:20<00:31, 43.57it/s]"
     ]
    },
    {
     "name": "stdout",
     "output_type": "stream",
     "text": [
      "puts the spoon in the bowl\n",
      "puts the spoon in the bowl\n",
      "puts the spoon in the bowl\n",
      "rinses the hand\n",
      "rinses the hand\n",
      "rinses the hand\n"
     ]
    },
    {
     "name": "stderr",
     "output_type": "stream",
     "text": [
      " 42%|████▏     | 989/2374 [00:20<00:33, 40.96it/s]"
     ]
    },
    {
     "name": "stdout",
     "output_type": "stream",
     "text": [
      "opens the fridge drawer\n",
      "puts down the knife\n",
      "puts food on the  cooking pan\n",
      "tightens the nut\n",
      "tightens the nut\n",
      "opens the tap\n",
      "opens the tap\n",
      "opens the tap\n"
     ]
    },
    {
     "name": "stderr",
     "output_type": "stream",
     "text": [
      " 42%|████▏     | 1002/2374 [00:21<00:28, 48.30it/s]"
     ]
    },
    {
     "name": "stdout",
     "output_type": "stream",
     "text": [
      "opens the tap\n",
      "moves the hand\n",
      "moves the hand\n",
      "moves the hand\n",
      "moves the hand\n",
      "sweeps the floor with a broom brush\n",
      "places his hand on the table\n",
      "places his hand on the table\n",
      "drops it on the floor\n",
      "tightens the nut\n",
      "tightens the nut\n",
      "tightens the nut\n",
      "tightens the nut\n",
      "tightens the nut\n",
      "moves the hand\n"
     ]
    },
    {
     "name": "stderr",
     "output_type": "stream",
     "text": [
      " 43%|████▎     | 1015/2374 [00:21<00:26, 51.81it/s]"
     ]
    },
    {
     "name": "stdout",
     "output_type": "stream",
     "text": [
      "puts a card on the table\n",
      "puts a card on the table\n",
      "puts a card on the table\n",
      "puts a card on the table\n",
      "puts a card on the table\n",
      "puts a card on the table\n",
      "puts a card on the table\n",
      "puts a card on the table\n",
      "puts a card on the table\n",
      "puts a card on the table\n",
      "puts a card on the table\n"
     ]
    },
    {
     "name": "stderr",
     "output_type": "stream",
     "text": [
      " 43%|████▎     | 1027/2374 [00:21<00:27, 48.29it/s]"
     ]
    },
    {
     "name": "stdout",
     "output_type": "stream",
     "text": [
      "puts a card on the table\n",
      "puts a card on the table\n",
      "puts a card on the table\n",
      "puts a card on the table\n",
      "the man x places a card on the table with his right hand\n",
      "talks to man a\n",
      "person a picks the cards\n",
      "person a picks the cards\n",
      "person a picks the cards\n"
     ]
    },
    {
     "name": "stderr",
     "output_type": "stream",
     "text": [
      " 44%|████▎     | 1038/2374 [00:21<00:27, 48.36it/s]"
     ]
    },
    {
     "name": "stdout",
     "output_type": "stream",
     "text": [
      "person a picks the cards\n",
      "person a picks the cards\n",
      "person a picks the cards\n",
      "person a picks the cards\n",
      "person a picks the cards\n",
      "person a picks the cards\n",
      "person a picks the cards\n",
      "person a picks the cards\n",
      "person a picks the cards\n",
      "person a picks the cards\n",
      "person a picks the cards\n"
     ]
    },
    {
     "name": "stderr",
     "output_type": "stream",
     "text": [
      " 44%|████▍     | 1049/2374 [00:21<00:27, 48.60it/s]"
     ]
    },
    {
     "name": "stdout",
     "output_type": "stream",
     "text": [
      "person a picks the cards\n",
      "person a picks the cards\n",
      "person a picks the cards\n",
      "person a picks the cards\n",
      "person a picks the cards\n",
      "person a picks the cards\n",
      "person a picks the cards\n",
      "person a picks the cards\n",
      "woman x puts the card on the table\n",
      "woman x puts the card on the table\n"
     ]
    },
    {
     "name": "stderr",
     "output_type": "stream",
     "text": [
      " 44%|████▍     | 1055/2374 [00:22<00:26, 50.67it/s]"
     ]
    },
    {
     "name": "stdout",
     "output_type": "stream",
     "text": [
      "woman x puts the card on the table\n",
      "moves the hand\n",
      "moves the hand\n",
      "rinses the hand\n",
      "rinses the hand\n",
      "places his hand on the table\n",
      "opens the door\n",
      "opens the tap\n",
      "moves the hand\n",
      "puts the spoon in the bowl\n",
      "puts the lid on the container\n",
      "puts down the knife\n"
     ]
    },
    {
     "name": "stderr",
     "output_type": "stream",
     "text": [
      " 45%|████▌     | 1069/2374 [00:22<00:23, 55.29it/s]"
     ]
    },
    {
     "name": "stdout",
     "output_type": "stream",
     "text": [
      "puts down the knife\n",
      "tightens the nut\n",
      "puts the bowl on the bowls\n",
      "opens the tap\n",
      "moves the hand\n",
      "stirs the ingredients\n",
      "stirs the ingredients\n",
      "puts the plate in the dish rack\n",
      "puts the plate in the dish rack\n",
      "puts the plate in the dish rack\n",
      "pours the water in the sink\n",
      "pours the water in the sink\n"
     ]
    },
    {
     "name": "stderr",
     "output_type": "stream",
     "text": [
      " 46%|████▌     | 1082/2374 [00:22<00:22, 57.87it/s]"
     ]
    },
    {
     "name": "stdout",
     "output_type": "stream",
     "text": [
      "puts the spoon in the bowl\n",
      "puts the spoon in the bowl\n",
      "puts the spoon in the bowl\n",
      "puts the spoon in the bowl\n",
      "puts the spoon in the bowl\n",
      "opens the fridge drawer\n",
      "opens the fridge drawer\n",
      "drops it on the floor\n",
      "drops it on the floor\n",
      "rolls the dough\n",
      "rolls the dough\n",
      "puts food on the  cooking pan\n",
      "puts food on the  cooking pan\n"
     ]
    },
    {
     "name": "stderr",
     "output_type": "stream",
     "text": [
      " 46%|████▌     | 1094/2374 [00:22<00:22, 55.82it/s]"
     ]
    },
    {
     "name": "stdout",
     "output_type": "stream",
     "text": [
      "puts the bowl on the bowls\n",
      "opens the door\n",
      "opens the tap\n",
      "moves the hand\n",
      "moves the hand\n",
      "moves the hand\n",
      "picks a plastic bag from the bag\n",
      "picks a plastic bag from the bag\n",
      "picks a plastic bag from the bag\n",
      "picks a plastic bag from the bag\n",
      "picks a plastic bag from the bag\n"
     ]
    },
    {
     "name": "stderr",
     "output_type": "stream",
     "text": [
      " 47%|████▋     | 1106/2374 [00:22<00:24, 52.79it/s]"
     ]
    },
    {
     "name": "stdout",
     "output_type": "stream",
     "text": [
      "picks a plastic bag from the bag\n",
      "places his hand on the table\n",
      "places his hand on the table\n",
      "places his hand on the table\n",
      "places his hand on the table\n",
      "puts down the knife\n",
      "moves forward\n",
      "moves forward\n",
      "moves forward\n",
      "tightens the nut\n",
      "tightens the nut\n",
      "tightens the nut\n"
     ]
    },
    {
     "name": "stderr",
     "output_type": "stream",
     "text": [
      " 47%|████▋     | 1120/2374 [00:23<00:22, 55.95it/s]"
     ]
    },
    {
     "name": "stdout",
     "output_type": "stream",
     "text": [
      "tightens the nut\n",
      "tightens the nut\n",
      "tightens the nut\n",
      "tightens the nut\n",
      "tightens the nut\n",
      "tightens the nut\n",
      "tightens the nut\n",
      "tightens the nut\n",
      "tightens the nut\n",
      "tightens the nut\n",
      "tightens the nut\n",
      "tightens the nut\n"
     ]
    },
    {
     "name": "stderr",
     "output_type": "stream",
     "text": [
      " 48%|████▊     | 1136/2374 [00:23<00:19, 64.98it/s]"
     ]
    },
    {
     "name": "stdout",
     "output_type": "stream",
     "text": [
      "tightens the nut\n",
      "tightens the nut\n",
      "tightens the nut\n",
      "tightens the nut\n",
      "opens the door\n",
      "opens the door\n",
      "moves the hand\n",
      "picks the piece of plants\n",
      "picks the piece of plants\n",
      "picks the piece of plants\n",
      "picks the piece of plants\n",
      "picks the piece of plants\n",
      "picks the piece of plants\n",
      "cuts the plants with the cutter\n",
      "cuts the plants with the cutter\n"
     ]
    },
    {
     "name": "stderr",
     "output_type": "stream",
     "text": [
      " 48%|████▊     | 1145/2374 [00:23<00:17, 70.97it/s]"
     ]
    },
    {
     "name": "stdout",
     "output_type": "stream",
     "text": [
      "cuts the plants with the cutter\n",
      "moves the hand\n",
      "picks the piece of plants\n",
      "picks the piece of plants\n",
      "dips the brush in the paint\n",
      "walks around\n",
      "walks around\n",
      "moves the hand\n",
      "moves the hand\n",
      "moves the hand\n",
      "places his hand on the table\n",
      "places his hand on the table\n",
      "places his hand on the table\n",
      "places his hand on the table\n",
      "drops it on the floor\n",
      "tightens the nut\n"
     ]
    },
    {
     "name": "stderr",
     "output_type": "stream",
     "text": [
      " 49%|████▉     | 1161/2374 [00:23<00:16, 72.01it/s]"
     ]
    },
    {
     "name": "stdout",
     "output_type": "stream",
     "text": [
      "tightens the nut\n",
      "tightens the nut\n",
      "opens the door\n",
      "moves the hand\n",
      "c c looks around\n",
      "c c looks around\n",
      "c c looks around\n",
      "c c looks around\n",
      "places his hand on the table\n",
      "places his hand on the table\n",
      "places his hand on the table\n",
      "moves the hand\n",
      "rinses the hand\n",
      "puts the lid on the container\n",
      "puts the lid on the container\n"
     ]
    },
    {
     "name": "stderr",
     "output_type": "stream",
     "text": [
      " 50%|████▉     | 1177/2374 [00:24<00:17, 68.46it/s]"
     ]
    },
    {
     "name": "stdout",
     "output_type": "stream",
     "text": [
      "puts the lid on the container\n",
      "puts the lid on the container\n",
      "dips the brush in the paint\n",
      "dips the brush in the paint\n",
      "dips the brush in the paint\n",
      "dips the brush in the paint\n",
      "dips the brush in the paint\n",
      "dips the brush in the paint\n",
      "moves the hand\n",
      "puts the plate in the dish rack\n",
      "puts the plate in the dish rack\n",
      "puts the plate in the dish rack\n",
      "puts the plate in the dish rack\n",
      "puts the plate in the dish rack\n",
      "puts the plate in the dish rack\n"
     ]
    },
    {
     "name": "stderr",
     "output_type": "stream",
     "text": [
      " 50%|█████     | 1198/2374 [00:24<00:14, 83.89it/s]"
     ]
    },
    {
     "name": "stdout",
     "output_type": "stream",
     "text": [
      "pours the water in the sink\n",
      "pours the water in the sink\n",
      "rinses the hand\n",
      "puts the pot on the cooker\n",
      "puts the pot on the cooker\n",
      "puts the pot on the cooker\n",
      "puts food on the  cooking pan\n",
      "opens the tap\n",
      "opens the tap\n",
      "opens the tap\n",
      "moves the hand\n",
      "places his hand on the table\n",
      "places his hand on the table\n",
      "places his hand on the table\n",
      "places his hand on the table\n",
      "places his hand on the table\n",
      "tightens the nut\n",
      "picks a plastic bag from the bag\n",
      "pours the water in the sink\n"
     ]
    },
    {
     "name": "stderr",
     "output_type": "stream",
     "text": [
      " 51%|█████     | 1216/2374 [00:24<00:14, 79.12it/s]"
     ]
    },
    {
     "name": "stdout",
     "output_type": "stream",
     "text": [
      "pours the water in the sink\n",
      "pours the water in the sink\n",
      "pours the water in the sink\n",
      "sweeps the floor with a broom brush\n",
      "puts down the knife\n",
      "puts down the knife\n",
      "moves forward\n",
      "walks around\n",
      "walks around\n",
      "picks a plastic bag from the bag\n",
      "picks a plastic bag from the bag\n",
      "picks a plastic bag from the bag\n",
      "moves the cloth\n",
      "moves the cloth\n",
      "moves the cloth\n",
      "moves the cloth\n"
     ]
    },
    {
     "name": "stderr",
     "output_type": "stream",
     "text": [
      " 52%|█████▏    | 1225/2374 [00:24<00:14, 77.20it/s]"
     ]
    },
    {
     "name": "stdout",
     "output_type": "stream",
     "text": [
      "puts clothes on the hanger stand\n",
      "opens the door\n",
      "picks a plastic bag from the bag\n",
      "picks a plastic bag from the bag\n",
      "picks up\n",
      "picks the piece of plants\n",
      "picks the piece of plants\n",
      "picks the piece of plants\n",
      "picks the piece of plants\n",
      "picks the piece of plants\n",
      "picks the piece of plants\n",
      "picks the piece of plants\n",
      "drops it on the floor\n",
      "puts down the knife\n"
     ]
    },
    {
     "name": "stderr",
     "output_type": "stream",
     "text": [
      " 52%|█████▏    | 1242/2374 [00:24<00:14, 76.51it/s]"
     ]
    },
    {
     "name": "stdout",
     "output_type": "stream",
     "text": [
      "moves forward\n",
      "walks around\n",
      "walks around\n",
      "walks around\n",
      "picks a plastic bag from the bag\n",
      "picks a plastic bag from the bag\n",
      "puts the plate in the dish rack\n",
      "puts the plate in the dish rack\n",
      "puts the plate in the dish rack\n",
      "pours the water in the sink\n",
      "pours the water in the sink\n",
      "puts the spoon in the bowl\n",
      "puts the spoon in the bowl\n",
      "puts the spoon in the bowl\n",
      "puts the spoon in the bowl\n",
      "rinses the hand\n",
      "rinses the hand\n"
     ]
    },
    {
     "name": "stderr",
     "output_type": "stream",
     "text": [
      " 53%|█████▎    | 1261/2374 [00:25<00:13, 82.53it/s]"
     ]
    },
    {
     "name": "stdout",
     "output_type": "stream",
     "text": [
      "rinses the hand\n",
      "rinses the hand\n",
      "picks up\n",
      "picks up\n",
      "picks up\n",
      "picks up\n",
      "picks up\n",
      "opens the fridge drawer\n",
      "drops it on the floor\n",
      "puts down the knife\n",
      "walks around\n",
      "opens the tap\n",
      "picks a plastic bag from the bag\n",
      "puts the chopsticks on the chopping board\n",
      "puts the pot on the cooker\n",
      "opens the door\n"
     ]
    },
    {
     "name": "stderr",
     "output_type": "stream",
     "text": [
      " 53%|█████▎    | 1270/2374 [00:25<00:15, 72.02it/s]"
     ]
    },
    {
     "name": "stdout",
     "output_type": "stream",
     "text": [
      "opens the door\n",
      "opens the tap\n",
      "opens the tap\n",
      "picks a plastic bag from the bag\n",
      "picks a plastic bag from the bag\n",
      "picks a plastic bag from the bag\n",
      "pours the water in the sink\n",
      "pours the water in the sink\n",
      "pours the water in the sink\n",
      "pours the water in the sink\n"
     ]
    },
    {
     "name": "stderr",
     "output_type": "stream",
     "text": [
      " 54%|█████▍    | 1278/2374 [00:25<00:18, 58.92it/s]"
     ]
    },
    {
     "name": "stdout",
     "output_type": "stream",
     "text": [
      "pours the water in the sink\n",
      "pours the water in the sink\n",
      "sweeps the floor with a broom brush\n",
      "sweeps the floor with a broom brush\n",
      "sweeps the floor with a broom brush\n",
      "sweeps the floor with a broom brush\n",
      "sweeps the floor with a broom brush\n",
      "sweeps the floor with a broom brush\n",
      "sweeps the floor with a broom brush\n"
     ]
    },
    {
     "name": "stderr",
     "output_type": "stream",
     "text": [
      " 54%|█████▍    | 1291/2374 [00:25<00:19, 54.23it/s]"
     ]
    },
    {
     "name": "stdout",
     "output_type": "stream",
     "text": [
      "sweeps the floor with a broom brush\n",
      "sweeps the floor with a broom brush\n",
      "sweeps the floor with a broom brush\n",
      "sweeps the floor with a broom brush\n",
      "scoops some sand from the ground with his hands\n",
      "picks up\n",
      "picks up\n",
      "picks the piece of plants\n",
      "opens the fridge drawer\n",
      "opens the fridge drawer\n",
      "drops it on the floor\n"
     ]
    },
    {
     "name": "stderr",
     "output_type": "stream",
     "text": [
      " 55%|█████▍    | 1303/2374 [00:25<00:20, 52.43it/s]"
     ]
    },
    {
     "name": "stdout",
     "output_type": "stream",
     "text": [
      "drops it on the floor\n",
      "drops it on the floor\n",
      "drops it on the floor\n",
      "drops it on the floor\n",
      "drops it on the floor\n",
      "drops it on the floor\n",
      "drops it on the floor\n",
      "drops it on the floor\n",
      "drops it on the floor\n",
      "puts down the knife\n"
     ]
    },
    {
     "name": "stderr",
     "output_type": "stream",
     "text": [
      " 55%|█████▌    | 1309/2374 [00:26<00:21, 50.35it/s]"
     ]
    },
    {
     "name": "stdout",
     "output_type": "stream",
     "text": [
      "puts down the knife\n",
      "puts down the knife\n",
      "puts down the knife\n",
      "cuts the plants with the cutter\n",
      "cuts the plants with the cutter\n",
      "cuts the plants with the cutter\n",
      "cuts the plants with the cutter\n",
      "cuts the plants with the cutter\n",
      "cuts the plants with the cutter\n",
      "cuts the plants with the cutter\n"
     ]
    },
    {
     "name": "stderr",
     "output_type": "stream",
     "text": [
      " 56%|█████▌    | 1320/2374 [00:26<00:21, 48.31it/s]"
     ]
    },
    {
     "name": "stdout",
     "output_type": "stream",
     "text": [
      "cuts the plants with the cutter\n",
      "cuts the plants with the cutter\n",
      "cuts the plants with the cutter\n",
      "cuts the plants with the cutter\n",
      "dips the brush in the paint\n",
      "puts the wood on the wood cutting machine\n",
      "moves forward\n",
      "moves forward\n",
      "moves forward\n",
      "moves forward\n"
     ]
    },
    {
     "name": "stderr",
     "output_type": "stream",
     "text": [
      " 56%|█████▌    | 1331/2374 [00:26<00:22, 45.92it/s]"
     ]
    },
    {
     "name": "stdout",
     "output_type": "stream",
     "text": [
      "moves forward\n",
      "moves forward\n",
      "tightens the nut\n",
      "walks around\n",
      "walks around\n",
      "walks around\n",
      "walks around\n",
      "walks around\n"
     ]
    },
    {
     "name": "stderr",
     "output_type": "stream",
     "text": [
      " 57%|█████▋    | 1342/2374 [00:26<00:21, 49.11it/s]"
     ]
    },
    {
     "name": "stdout",
     "output_type": "stream",
     "text": [
      "walks around\n",
      "opens the door\n",
      "opens the door\n",
      "picks a plastic bag from the bag\n",
      "picks a plastic bag from the bag\n",
      "picks up\n",
      "puts the lid on the container\n",
      "picks the piece of plants\n",
      "picks the piece of plants\n",
      "picks the piece of plants\n",
      "picks the piece of plants\n",
      "picks the piece of plants\n"
     ]
    },
    {
     "name": "stderr",
     "output_type": "stream",
     "text": [
      " 57%|█████▋    | 1354/2374 [00:26<00:20, 50.35it/s]"
     ]
    },
    {
     "name": "stdout",
     "output_type": "stream",
     "text": [
      "picks the piece of plants\n",
      "picks the piece of plants\n",
      "picks the piece of plants\n",
      "picks the piece of plants\n",
      "puts down the knife\n",
      "puts down the knife\n",
      "puts down the knife\n",
      "cuts the plants with the cutter\n",
      "cuts the plants with the cutter\n",
      "cuts the plants with the cutter\n"
     ]
    },
    {
     "name": "stderr",
     "output_type": "stream",
     "text": [
      " 57%|█████▋    | 1360/2374 [00:27<00:19, 52.94it/s]"
     ]
    },
    {
     "name": "stdout",
     "output_type": "stream",
     "text": [
      "cuts the plants with the cutter\n",
      "stirs the ingredients\n",
      "stirs the ingredients\n",
      "stirs the ingredients\n",
      "stirs the ingredients\n",
      "puts the plate in the dish rack\n",
      "puts the spoon in the bowl\n",
      "puts the spoon in the bowl\n",
      "puts the spoon in the bowl\n",
      "puts the spoon in the bowl\n",
      "rinses the hand\n"
     ]
    },
    {
     "name": "stderr",
     "output_type": "stream",
     "text": [
      " 58%|█████▊    | 1372/2374 [00:27<00:20, 48.22it/s]"
     ]
    },
    {
     "name": "stdout",
     "output_type": "stream",
     "text": [
      "rinses the hand\n",
      "rinses the hand\n",
      "rinses the hand\n",
      "rinses the hand\n",
      "rinses the hand\n",
      "rinses the hand\n",
      "rinses the hand\n",
      "picks up\n",
      "picks up\n",
      "puts the lid on the container\n"
     ]
    },
    {
     "name": "stderr",
     "output_type": "stream",
     "text": [
      " 58%|█████▊    | 1384/2374 [00:27<00:18, 53.06it/s]"
     ]
    },
    {
     "name": "stdout",
     "output_type": "stream",
     "text": [
      "puts the lid on the container\n",
      "puts the pot on the cooker\n",
      "opens the fridge drawer\n",
      "opens the fridge drawer\n",
      "puts down the knife\n",
      "puts down the knife\n",
      "puts food on the  cooking pan\n",
      "puts food on the  cooking pan\n",
      "puts food on the  cooking pan\n",
      "puts food on the  cooking pan\n",
      "puts food on the  cooking pan\n",
      "puts food on the  cooking pan\n",
      "tightens the nut\n"
     ]
    },
    {
     "name": "stderr",
     "output_type": "stream",
     "text": [
      " 59%|█████▉    | 1397/2374 [00:27<00:18, 53.36it/s]"
     ]
    },
    {
     "name": "stdout",
     "output_type": "stream",
     "text": [
      "puts the bowl on the bowls\n",
      "puts the bowl on the bowls\n",
      "puts the bowl on the bowls\n",
      "puts the bowl on the bowls\n",
      "opens the door\n",
      "picks up the tin\n",
      "picks up the tin\n",
      "picks up the tin\n",
      "opens the tap\n",
      "opens the tap\n",
      "opens the tap\n"
     ]
    },
    {
     "name": "stderr",
     "output_type": "stream",
     "text": [
      " 59%|█████▉    | 1403/2374 [00:27<00:19, 49.55it/s]"
     ]
    },
    {
     "name": "stdout",
     "output_type": "stream",
     "text": [
      "opens the tap\n",
      "stirs the ingredients\n",
      "puts the plate in the dish rack\n",
      "man x moves the hand\n",
      "man x moves the hand\n",
      "rinses the hand\n",
      "puts the pot on the cooker\n",
      "opens the fridge drawer\n",
      "opens the fridge drawer\n"
     ]
    },
    {
     "name": "stderr",
     "output_type": "stream",
     "text": [
      " 60%|█████▉    | 1414/2374 [00:28<00:21, 45.66it/s]"
     ]
    },
    {
     "name": "stdout",
     "output_type": "stream",
     "text": [
      "opens the fridge drawer\n",
      "drops it on the floor\n",
      "puts down the knife\n",
      "puts down the knife\n",
      "puts down the knife\n",
      "puts down the knife\n",
      "puts the bowl on the bowls\n",
      "puts the bowl on the bowls\n"
     ]
    },
    {
     "name": "stderr",
     "output_type": "stream",
     "text": [
      " 60%|█████▉    | 1419/2374 [00:28<00:21, 43.93it/s]"
     ]
    },
    {
     "name": "stdout",
     "output_type": "stream",
     "text": [
      "opens the door\n",
      "stirs the ingredients\n",
      "stirs the ingredients\n",
      "stirs the ingredients\n",
      "puts the plate in the dish rack\n",
      "puts the chopsticks on the chopping board\n",
      "puts the chopsticks on the chopping board\n",
      "pours the water in the sink\n"
     ]
    },
    {
     "name": "stderr",
     "output_type": "stream",
     "text": [
      " 60%|██████    | 1429/2374 [00:28<00:22, 42.86it/s]"
     ]
    },
    {
     "name": "stdout",
     "output_type": "stream",
     "text": [
      "c c looks around\n",
      "puts the spoon in the bowl\n",
      "puts the spoon in the bowl\n",
      "puts the spoon in the bowl\n",
      "rinses the hand\n",
      "rinses the hand\n",
      "rinses the hand\n",
      "opens the fridge drawer\n",
      "opens the fridge drawer\n",
      "opens the fridge drawer\n"
     ]
    },
    {
     "name": "stderr",
     "output_type": "stream",
     "text": [
      " 61%|██████    | 1439/2374 [00:28<00:21, 43.03it/s]"
     ]
    },
    {
     "name": "stdout",
     "output_type": "stream",
     "text": [
      "dips the brush in the paint\n",
      "walks around\n",
      "walks around\n",
      "walks around\n",
      "puts the bowl on the bowls\n",
      "puts the bowl on the bowls\n",
      "puts the bowl on the bowls\n",
      "puts the bowl on the bowls\n",
      "puts the bowl on the bowls\n",
      "puts the bowl on the bowls\n"
     ]
    },
    {
     "name": "stderr",
     "output_type": "stream",
     "text": [
      " 61%|██████    | 1449/2374 [00:29<00:22, 41.90it/s]"
     ]
    },
    {
     "name": "stdout",
     "output_type": "stream",
     "text": [
      "puts the bowl on the bowls\n",
      "puts the bowl on the bowls\n",
      "opens the door\n",
      "picks up the tin\n",
      "picks up the tin\n",
      "opens the tap\n",
      "opens the tap\n",
      "opens the tap\n",
      "opens the tap\n",
      "stirs the ingredients\n"
     ]
    },
    {
     "name": "stderr",
     "output_type": "stream",
     "text": [
      " 61%|██████▏   | 1460/2374 [00:29<00:20, 44.33it/s]"
     ]
    },
    {
     "name": "stdout",
     "output_type": "stream",
     "text": [
      "stirs the ingredients\n",
      "stirs the ingredients\n",
      "stirs the ingredients\n",
      "stirs the ingredients\n",
      "stirs the ingredients\n",
      "stirs the ingredients\n",
      "stirs the ingredients\n",
      "stirs the ingredients\n",
      "stirs the ingredients\n"
     ]
    },
    {
     "name": "stderr",
     "output_type": "stream",
     "text": [
      " 62%|██████▏   | 1470/2374 [00:29<00:22, 39.40it/s]"
     ]
    },
    {
     "name": "stdout",
     "output_type": "stream",
     "text": [
      "stirs the ingredients\n",
      "stirs the ingredients\n",
      "stirs the ingredients\n",
      "stirs the ingredients\n",
      "stirs the ingredients\n",
      "stirs the ingredients\n",
      "stirs the ingredients\n"
     ]
    },
    {
     "name": "stderr",
     "output_type": "stream",
     "text": [
      " 62%|██████▏   | 1475/2374 [00:29<00:23, 38.08it/s]"
     ]
    },
    {
     "name": "stdout",
     "output_type": "stream",
     "text": [
      "stirs the ingredients\n",
      "stirs the ingredients\n",
      "stirs the ingredients\n",
      "stirs the ingredients\n",
      "stirs the ingredients\n",
      "stirs the ingredients\n",
      "stirs the ingredients\n",
      "puts the plate in the dish rack\n"
     ]
    },
    {
     "name": "stderr",
     "output_type": "stream",
     "text": [
      " 63%|██████▎   | 1486/2374 [00:29<00:21, 42.25it/s]"
     ]
    },
    {
     "name": "stdout",
     "output_type": "stream",
     "text": [
      "puts the plate in the dish rack\n",
      "puts the chopsticks on the chopping board\n",
      "pours the water in the sink\n",
      "puts the spoon in the bowl\n",
      "puts the spoon in the bowl\n",
      "puts the spoon in the bowl\n",
      "puts the spoon in the bowl\n",
      "rinses the hand\n",
      "rinses the hand\n",
      "rinses the hand\n"
     ]
    },
    {
     "name": "stderr",
     "output_type": "stream",
     "text": [
      " 63%|██████▎   | 1496/2374 [00:30<00:20, 42.95it/s]"
     ]
    },
    {
     "name": "stdout",
     "output_type": "stream",
     "text": [
      "puts the lid on the container\n",
      "opens the fridge drawer\n",
      "puts down the knife\n",
      "puts down the knife\n",
      "puts down the knife\n",
      "puts down the knife\n",
      "puts off the rice grinder with her right hand\n",
      "puts off the rice grinder with her right hand\n",
      "walks around\n"
     ]
    },
    {
     "name": "stderr",
     "output_type": "stream",
     "text": [
      " 63%|██████▎   | 1501/2374 [00:30<00:22, 39.27it/s]"
     ]
    },
    {
     "name": "stdout",
     "output_type": "stream",
     "text": [
      "puts the bowl on the bowls\n",
      "puts the bowl on the bowls\n",
      "puts the bowl on the bowls\n",
      "puts the bowl on the bowls\n",
      "puts the bowl on the bowls\n",
      "puts the bowl on the bowls\n",
      "puts the bowl on the bowls\n",
      "puts the bowl on the bowls\n"
     ]
    },
    {
     "name": "stderr",
     "output_type": "stream",
     "text": [
      " 64%|██████▎   | 1512/2374 [00:30<00:19, 43.83it/s]"
     ]
    },
    {
     "name": "stdout",
     "output_type": "stream",
     "text": [
      "puts the bowl on the bowls\n",
      "puts the bowl on the bowls\n",
      "puts the bowl on the bowls\n",
      "puts the bowl on the bowls\n",
      "opens the door\n",
      "opens the door\n",
      "opens the tap\n",
      "c c looks around\n",
      "stirs the ingredients\n",
      "puts the plate in the dish rack\n",
      "puts the chopsticks on the chopping board\n",
      "puts the chopsticks on the chopping board\n",
      "rinses the hand\n"
     ]
    },
    {
     "name": "stderr",
     "output_type": "stream",
     "text": [
      " 64%|██████▍   | 1527/2374 [00:30<00:16, 52.72it/s]"
     ]
    },
    {
     "name": "stdout",
     "output_type": "stream",
     "text": [
      "rinses the hand\n",
      "picks up\n",
      "picks up\n",
      "places his hand on the table\n",
      "places his hand on the table\n",
      "puts the pot on the cooker\n",
      "opens the fridge drawer\n",
      "opens the fridge drawer\n",
      "puts the plate in the dish rack\n",
      "puts the plate in the dish rack\n"
     ]
    },
    {
     "name": "stderr",
     "output_type": "stream",
     "text": [
      " 65%|██████▍   | 1533/2374 [00:30<00:19, 42.53it/s]"
     ]
    },
    {
     "name": "stdout",
     "output_type": "stream",
     "text": [
      "opens the fridge drawer\n",
      "puts down the knife\n",
      "moves forward\n",
      "walks around\n",
      "puts the spoon in the bowl\n",
      "cuts the plants with the cutter\n",
      "puts the bowl on the bowls\n",
      "puts the plate in the dish rack\n",
      "puts the plate in the dish rack\n"
     ]
    },
    {
     "name": "stderr",
     "output_type": "stream",
     "text": [
      " 65%|██████▌   | 1546/2374 [00:31<00:16, 49.57it/s]"
     ]
    },
    {
     "name": "stdout",
     "output_type": "stream",
     "text": [
      "puts the chopsticks on the chopping board\n",
      "c c looks around\n",
      "c c looks around\n",
      "c c looks around\n",
      "man x moves the hand\n",
      "picks up\n",
      "opens the fridge drawer\n",
      "opens the fridge drawer\n",
      "opens the fridge drawer\n",
      "opens the fridge drawer\n",
      "puts down the knife\n"
     ]
    },
    {
     "name": "stderr",
     "output_type": "stream",
     "text": [
      " 66%|██████▌   | 1558/2374 [00:31<00:16, 50.25it/s]"
     ]
    },
    {
     "name": "stdout",
     "output_type": "stream",
     "text": [
      "puts food on the  cooking pan\n",
      "walks around\n",
      "opens the door\n",
      "opens the tap\n",
      "puts the plate in the dish rack\n",
      "puts the plate in the dish rack\n",
      "puts the plate in the dish rack\n",
      "puts the plate in the dish rack\n",
      "puts the plate in the dish rack\n",
      "puts the chopsticks on the chopping board\n",
      "puts the chopsticks on the chopping board\n"
     ]
    },
    {
     "name": "stderr",
     "output_type": "stream",
     "text": [
      " 66%|██████▌   | 1570/2374 [00:31<00:15, 51.59it/s]"
     ]
    },
    {
     "name": "stdout",
     "output_type": "stream",
     "text": [
      "puts the chopsticks on the chopping board\n",
      "pours the water in the sink\n",
      "pours the water in the sink\n",
      "pours the water in the sink\n",
      "puts the spoon in the bowl\n",
      "puts the spoon in the bowl\n",
      "puts the spoon in the bowl\n",
      "rinses the hand\n",
      "rinses the hand\n",
      "picks up\n",
      "picks up\n"
     ]
    },
    {
     "name": "stderr",
     "output_type": "stream",
     "text": [
      " 66%|██████▋   | 1576/2374 [00:31<00:15, 51.72it/s]"
     ]
    },
    {
     "name": "stdout",
     "output_type": "stream",
     "text": [
      "picks up\n",
      "places his hand on the table\n",
      "places his hand on the table\n",
      "places his hand on the table\n",
      "puts the lid on the container\n",
      "puts the pot on the cooker\n",
      "puts the pot on the cooker\n",
      "puts the pot on the cooker\n",
      "walks around\n",
      "puts the bowl on the bowls\n",
      "puts the bowl on the bowls\n"
     ]
    },
    {
     "name": "stderr",
     "output_type": "stream",
     "text": [
      " 67%|██████▋   | 1589/2374 [00:32<00:14, 53.45it/s]"
     ]
    },
    {
     "name": "stdout",
     "output_type": "stream",
     "text": [
      "opens the tap\n",
      "opens the tap\n",
      "opens the tap\n",
      "opens the tap\n",
      "opens the tap\n",
      "opens the tap\n",
      "opens the tap\n",
      "puts the plate in the dish rack\n",
      "puts the plate in the dish rack\n",
      "puts the plate in the dish rack\n",
      "opens the fridge drawer\n",
      "opens the fridge drawer\n",
      "opens the fridge drawer\n"
     ]
    },
    {
     "name": "stderr",
     "output_type": "stream",
     "text": [
      " 68%|██████▊   | 1604/2374 [00:32<00:12, 60.39it/s]"
     ]
    },
    {
     "name": "stdout",
     "output_type": "stream",
     "text": [
      "opens the fridge drawer\n",
      "moves forward\n",
      "moves forward\n",
      "moves forward\n",
      "opens the door\n",
      "opens the door\n",
      "opens the tap\n",
      "puts the plate in the dish rack\n",
      "puts the plate in the dish rack\n",
      "puts the plate in the dish rack\n",
      "puts the plate in the dish rack\n",
      "sweeps the floor with a broom brush\n",
      "puts the spoon in the bowl\n",
      "picks up\n",
      "picks up\n"
     ]
    },
    {
     "name": "stderr",
     "output_type": "stream",
     "text": [
      " 68%|██████▊   | 1620/2374 [00:32<00:11, 67.61it/s]"
     ]
    },
    {
     "name": "stdout",
     "output_type": "stream",
     "text": [
      "puts the lid on the container\n",
      "puts the lid on the container\n",
      "puts the lid on the container\n",
      "puts the lid on the container\n",
      "puts the lid on the container\n",
      "puts the lid on the container\n",
      "puts the lid on the container\n",
      "puts the pot on the cooker\n",
      "puts the pot on the cooker\n",
      "puts the pot on the cooker\n",
      "puts the pot on the cooker\n",
      "puts down the knife\n",
      "puts the bowl on the bowls\n",
      "opens the door\n"
     ]
    },
    {
     "name": "stderr",
     "output_type": "stream",
     "text": [
      " 69%|██████▉   | 1634/2374 [00:32<00:11, 65.14it/s]"
     ]
    },
    {
     "name": "stdout",
     "output_type": "stream",
     "text": [
      "opens the door\n",
      "opens the door\n",
      "picks up the tin\n",
      "picks up the tin\n",
      "picks up the tin\n",
      "picks up the tin\n",
      "picks up the tin\n",
      "opens the tap\n",
      "opens the tap\n",
      "puts the plate in the dish rack\n",
      "puts the plate in the dish rack\n",
      "puts the plate in the dish rack\n",
      "puts the chopsticks on the chopping board\n",
      "puts the chopsticks on the chopping board\n"
     ]
    },
    {
     "name": "stderr",
     "output_type": "stream",
     "text": [
      " 70%|██████▉   | 1650/2374 [00:32<00:10, 71.14it/s]"
     ]
    },
    {
     "name": "stdout",
     "output_type": "stream",
     "text": [
      "pours the water in the sink\n",
      "sweeps the floor with a broom brush\n",
      "sweeps the floor with a broom brush\n",
      "puts the spoon in the bowl\n",
      "rinses the hand\n",
      "rinses the hand\n",
      "rinses the hand\n",
      "rinses the hand\n",
      "rinses the hand\n",
      "rinses the hand\n",
      "rinses the hand\n",
      "puts food on the  cooking pan\n",
      "walks around\n",
      "puts the bowl on the bowls\n",
      "picks up the tin\n",
      "picks up the tin\n"
     ]
    },
    {
     "name": "stderr",
     "output_type": "stream",
     "text": [
      " 70%|██████▉   | 1658/2374 [00:33<00:10, 68.57it/s]"
     ]
    },
    {
     "name": "stdout",
     "output_type": "stream",
     "text": [
      "picks up the tin\n",
      "picks up the tin\n",
      "opens the tap\n",
      "opens the tap\n",
      "puts the plate in the dish rack\n",
      "man x moves the hand\n",
      "tightens the nut\n",
      "opens the door\n"
     ]
    },
    {
     "name": "stderr",
     "output_type": "stream",
     "text": [
      " 70%|███████   | 1665/2374 [00:33<00:13, 51.70it/s]"
     ]
    },
    {
     "name": "stdout",
     "output_type": "stream",
     "text": [
      "opens the door\n",
      "puts the plate in the dish rack\n",
      "c c looks around\n",
      "c c looks around\n",
      "c c looks around\n",
      "c c looks around\n",
      "c c looks around\n",
      "c c looks around\n"
     ]
    },
    {
     "name": "stderr",
     "output_type": "stream",
     "text": [
      " 70%|███████   | 1671/2374 [00:33<00:14, 48.48it/s]"
     ]
    },
    {
     "name": "stdout",
     "output_type": "stream",
     "text": [
      "picks up\n",
      "opens the fridge drawer\n",
      "opens the tap\n",
      "opens the tap\n",
      "puts the plate in the dish rack\n",
      "pours the water in the sink\n",
      "pours the water in the sink\n",
      "pours the water in the sink\n"
     ]
    },
    {
     "name": "stderr",
     "output_type": "stream",
     "text": [
      " 71%|███████   | 1682/2374 [00:33<00:17, 38.47it/s]"
     ]
    },
    {
     "name": "stdout",
     "output_type": "stream",
     "text": [
      "pours the water in the sink\n",
      "c c looks around\n",
      "c c looks around\n",
      "c c looks around\n",
      "c c looks around\n",
      "c c looks around\n"
     ]
    },
    {
     "name": "stderr",
     "output_type": "stream",
     "text": [
      " 71%|███████   | 1687/2374 [00:33<00:20, 33.38it/s]"
     ]
    },
    {
     "name": "stdout",
     "output_type": "stream",
     "text": [
      "c c looks around\n",
      "c c looks around\n",
      "c c looks around\n",
      "puts the spoon in the bowl\n",
      "puts the spoon in the bowl\n"
     ]
    },
    {
     "name": "stderr",
     "output_type": "stream",
     "text": [
      " 71%|███████   | 1691/2374 [00:34<00:22, 30.87it/s]"
     ]
    },
    {
     "name": "stdout",
     "output_type": "stream",
     "text": [
      "rinses the hand\n",
      "picks up\n",
      "picks up\n",
      "picks up\n",
      "places his hand on the table\n"
     ]
    },
    {
     "name": "stderr",
     "output_type": "stream",
     "text": [
      " 71%|███████▏  | 1695/2374 [00:34<00:22, 29.83it/s]"
     ]
    },
    {
     "name": "stdout",
     "output_type": "stream",
     "text": [
      "opens the fridge drawer\n",
      "opens the fridge drawer\n",
      "drops it on the floor\n",
      "puts the bowl on the bowls\n",
      "puts the bowl on the bowls\n",
      "opens the door\n"
     ]
    },
    {
     "name": "stderr",
     "output_type": "stream",
     "text": [
      " 72%|███████▏  | 1702/2374 [00:34<00:24, 27.81it/s]"
     ]
    },
    {
     "name": "stdout",
     "output_type": "stream",
     "text": [
      "opens the door\n",
      "opens the tap\n",
      "opens the tap\n",
      "opens the tap\n",
      "opens the tap\n",
      "opens the tap\n"
     ]
    },
    {
     "name": "stderr",
     "output_type": "stream",
     "text": [
      " 72%|███████▏  | 1709/2374 [00:34<00:22, 29.51it/s]"
     ]
    },
    {
     "name": "stdout",
     "output_type": "stream",
     "text": [
      "puts the chopsticks on the chopping board\n",
      "puts the spoon in the bowl\n",
      "puts the pot on the cooker\n",
      "puts the pot on the cooker\n",
      "puts the pot on the cooker\n",
      "puts the pot on the cooker\n",
      "opens the fridge drawer\n",
      "opens the fridge drawer\n",
      "opens the fridge drawer\n"
     ]
    },
    {
     "name": "stderr",
     "output_type": "stream",
     "text": [
      " 72%|███████▏  | 1718/2374 [00:35<00:19, 33.22it/s]"
     ]
    },
    {
     "name": "stdout",
     "output_type": "stream",
     "text": [
      "puts the bowl on the bowls\n",
      "puts the bowl on the bowls\n",
      "opens the tap\n",
      "opens the tap\n",
      "opens the tap\n",
      "opens the tap\n",
      "puts a card on the table\n",
      "puts a card on the table\n"
     ]
    },
    {
     "name": "stderr",
     "output_type": "stream",
     "text": [
      " 73%|███████▎  | 1729/2374 [00:35<00:15, 40.78it/s]"
     ]
    },
    {
     "name": "stdout",
     "output_type": "stream",
     "text": [
      "puts a card on the table\n",
      "the man x places a card on the table with his right hand\n",
      "the man x places a card on the table with his right hand\n",
      "the man x places a card on the table with his right hand\n",
      "the man x places a card on the table with his right hand\n",
      "the man x places a card on the table with his right hand\n",
      "the man x places a card on the table with his right hand\n",
      "the man x places a card on the table with his right hand\n",
      "the man x places a card on the table with his right hand\n",
      "the man x places a card on the table with his right hand\n",
      "the man x places a card on the table with his right hand\n",
      "the man x places a card on the table with his right hand\n"
     ]
    },
    {
     "name": "stderr",
     "output_type": "stream",
     "text": [
      " 73%|███████▎  | 1741/2374 [00:35<00:13, 46.65it/s]"
     ]
    },
    {
     "name": "stdout",
     "output_type": "stream",
     "text": [
      "the man x places a card on the table with his right hand\n",
      "the man x places a card on the table with his right hand\n",
      "the man x places a card on the table with his right hand\n",
      "the man x places a card on the table with his right hand\n",
      "the man x places a card on the table with his right hand\n",
      "the man x places a card on the table with his right hand\n",
      "the man x places a card on the table with his right hand\n",
      "the man x places a card on the table with his right hand\n",
      "the man x places a card on the table with his right hand\n",
      "the man x places a card on the table with his right hand\n"
     ]
    },
    {
     "name": "stderr",
     "output_type": "stream",
     "text": [
      " 74%|███████▍  | 1751/2374 [00:35<00:13, 44.81it/s]"
     ]
    },
    {
     "name": "stdout",
     "output_type": "stream",
     "text": [
      "the man x places a card on the table with his right hand\n",
      "man x moves the hand\n",
      "man x moves the hand\n",
      "man x moves the hand\n",
      "man x moves the hand\n",
      "man x moves the hand\n",
      "man x moves the hand\n",
      "a lady x talks to c\n",
      "a lady x talks to c\n"
     ]
    },
    {
     "name": "stderr",
     "output_type": "stream",
     "text": [
      " 74%|███████▍  | 1761/2374 [00:35<00:14, 42.60it/s]"
     ]
    },
    {
     "name": "stdout",
     "output_type": "stream",
     "text": [
      "person a picks the cards\n",
      "person a picks the cards\n",
      "person a picks the cards\n",
      "woman x puts the card on the table\n",
      "woman x puts the card on the table\n",
      "woman x puts the card on the table\n",
      "woman x puts the card on the table\n",
      "woman x puts the card on the table\n",
      "woman x puts the card on the table\n"
     ]
    },
    {
     "name": "stderr",
     "output_type": "stream",
     "text": [
      " 74%|███████▍  | 1766/2374 [00:36<00:14, 40.72it/s]"
     ]
    },
    {
     "name": "stdout",
     "output_type": "stream",
     "text": [
      "woman x puts the card on the table\n",
      "woman x puts the card on the table\n",
      "woman x puts the card on the table\n",
      "woman x puts the card on the table\n",
      "woman x puts the card on the table\n",
      "woman x puts the card on the table\n",
      "woman x puts the card on the table\n",
      "woman x puts the card on the table\n",
      "woman x puts the card on the table\n",
      "woman x puts the card on the table\n"
     ]
    },
    {
     "name": "stderr",
     "output_type": "stream",
     "text": [
      " 75%|███████▍  | 1777/2374 [00:36<00:13, 43.34it/s]"
     ]
    },
    {
     "name": "stdout",
     "output_type": "stream",
     "text": [
      "woman x puts the card on the table\n",
      "woman x puts the card on the table\n",
      "woman x puts the card on the table\n",
      "woman x puts the card on the table\n",
      "woman x puts the card on the table\n",
      "puts a card on the table\n",
      "the man x places a card on the table with his right hand\n",
      "the man x places a card on the table with his right hand\n"
     ]
    },
    {
     "name": "stderr",
     "output_type": "stream",
     "text": [
      " 75%|███████▌  | 1787/2374 [00:36<00:14, 41.69it/s]"
     ]
    },
    {
     "name": "stdout",
     "output_type": "stream",
     "text": [
      "the man x places a card on the table with his right hand\n",
      "the man x places a card on the table with his right hand\n",
      "woman x puts the card on the table\n",
      "woman x puts the card on the table\n",
      "woman x puts the card on the table\n",
      "woman x puts the card on the table\n",
      "woman x puts the card on the table\n",
      "woman x puts the card on the table\n"
     ]
    },
    {
     "name": "stderr",
     "output_type": "stream",
     "text": [
      " 76%|███████▌  | 1797/2374 [00:36<00:13, 42.74it/s]"
     ]
    },
    {
     "name": "stdout",
     "output_type": "stream",
     "text": [
      "woman x puts the card on the table\n",
      "woman x puts the card on the table\n",
      "woman x puts the card on the table\n",
      "woman x puts the card on the table\n",
      "woman x puts the card on the table\n",
      "woman x puts the card on the table\n",
      "woman x puts the card on the table\n",
      "woman x puts the card on the table\n",
      "woman x puts the card on the table\n"
     ]
    },
    {
     "name": "stderr",
     "output_type": "stream",
     "text": [
      " 76%|███████▌  | 1802/2374 [00:36<00:13, 42.64it/s]"
     ]
    },
    {
     "name": "stdout",
     "output_type": "stream",
     "text": [
      "woman x puts the card on the table\n",
      "puts a card on the table\n",
      "puts a card on the table\n",
      "puts a card on the table\n",
      "person a picks the cards\n",
      "woman x puts the card on the table\n",
      "woman x puts the card on the table\n",
      "woman x puts the card on the table\n",
      "woman x puts the card on the table\n"
     ]
    },
    {
     "name": "stderr",
     "output_type": "stream",
     "text": [
      " 76%|███████▋  | 1812/2374 [00:37<00:13, 41.00it/s]"
     ]
    },
    {
     "name": "stdout",
     "output_type": "stream",
     "text": [
      "woman x puts the card on the table\n",
      "woman x puts the card on the table\n",
      "woman x puts the card on the table\n",
      "woman x puts the card on the table\n",
      "woman x puts the card on the table\n",
      "woman x puts the card on the table\n",
      "woman x puts the card on the table\n",
      "woman x puts the card on the table\n"
     ]
    },
    {
     "name": "stderr",
     "output_type": "stream",
     "text": [
      " 77%|███████▋  | 1821/2374 [00:37<00:14, 38.33it/s]"
     ]
    },
    {
     "name": "stdout",
     "output_type": "stream",
     "text": [
      "woman x puts the card on the table\n",
      "woman x puts the card on the table\n",
      "woman x puts the card on the table\n",
      "woman x puts the card on the table\n",
      "woman x puts the card on the table\n",
      "woman x puts the card on the table\n",
      "woman x puts the card on the table\n",
      "woman x puts the card on the table\n"
     ]
    },
    {
     "name": "stderr",
     "output_type": "stream",
     "text": [
      " 77%|███████▋  | 1834/2374 [00:37<00:11, 48.77it/s]"
     ]
    },
    {
     "name": "stdout",
     "output_type": "stream",
     "text": [
      "woman x puts the card on the table\n",
      "puts a card on the table\n",
      "puts a card on the table\n",
      "puts a card on the table\n",
      "puts a card on the table\n",
      "puts a card on the table\n",
      "puts a card on the table\n",
      "drops it on the floor\n",
      "moves forward\n",
      "person a picks the cards\n",
      "person a picks the cards\n",
      "person a picks the cards\n",
      "person a picks the cards\n"
     ]
    },
    {
     "name": "stderr",
     "output_type": "stream",
     "text": [
      " 78%|███████▊  | 1847/2374 [00:37<00:09, 53.87it/s]"
     ]
    },
    {
     "name": "stdout",
     "output_type": "stream",
     "text": [
      "person a picks the cards\n",
      "person a picks the cards\n",
      "person a picks the cards\n",
      "person a picks the cards\n",
      "person a picks the cards\n",
      "person a picks the cards\n",
      "person a picks the cards\n",
      "person a picks the cards\n",
      "person a picks the cards\n",
      "person a picks the cards\n",
      "person a picks the cards\n",
      "person a picks the cards\n",
      "person a picks the cards\n"
     ]
    },
    {
     "name": "stderr",
     "output_type": "stream",
     "text": [
      " 78%|███████▊  | 1853/2374 [00:38<00:10, 51.07it/s]"
     ]
    },
    {
     "name": "stdout",
     "output_type": "stream",
     "text": [
      "person a picks the cards\n",
      "person a picks the cards\n",
      "person a picks the cards\n",
      "person a picks the cards\n",
      "person a picks the cards\n",
      "person a picks the cards\n",
      "person a picks the cards\n",
      "person a picks the cards\n",
      "person a picks the cards\n"
     ]
    },
    {
     "name": "stderr",
     "output_type": "stream",
     "text": [
      " 79%|███████▊  | 1864/2374 [00:38<00:10, 47.71it/s]"
     ]
    },
    {
     "name": "stdout",
     "output_type": "stream",
     "text": [
      "person a picks the cards\n",
      "person a picks the cards\n",
      "person a picks the cards\n",
      "person a picks the cards\n",
      "person a picks the cards\n",
      "person a picks the cards\n",
      "person a picks the cards\n",
      "person a picks the cards\n",
      "person a picks the cards\n",
      "person a picks the cards\n",
      "person a picks the cards\n"
     ]
    },
    {
     "name": "stderr",
     "output_type": "stream",
     "text": [
      " 79%|███████▉  | 1877/2374 [00:38<00:09, 54.23it/s]"
     ]
    },
    {
     "name": "stdout",
     "output_type": "stream",
     "text": [
      "person a picks the cards\n",
      "person a picks the cards\n",
      "person a picks the cards\n",
      "person a picks the cards\n",
      "person a picks the cards\n",
      "person a picks the cards\n",
      "pours the water in the sink\n",
      "puts the lid on the container\n",
      "dips the brush in the paint\n",
      "pours the water in the sink\n",
      "puts the spoon in the bowl\n"
     ]
    },
    {
     "name": "stderr",
     "output_type": "stream",
     "text": [
      " 80%|███████▉  | 1890/2374 [00:38<00:09, 52.05it/s]"
     ]
    },
    {
     "name": "stdout",
     "output_type": "stream",
     "text": [
      "places his hand on the table\n",
      "opens the fridge drawer\n",
      "puts down the knife\n",
      "walks around\n",
      "person a picks the cards\n",
      "person a picks the cards\n",
      "pours the water in the sink\n",
      "places his hand on the table\n",
      "moves forward\n",
      "moves forward\n",
      "tightens the nut\n"
     ]
    },
    {
     "name": "stderr",
     "output_type": "stream",
     "text": [
      " 80%|███████▉  | 1896/2374 [00:38<00:09, 48.72it/s]"
     ]
    },
    {
     "name": "stdout",
     "output_type": "stream",
     "text": [
      "pours the water in the sink\n",
      "cuts the plants with the cutter\n",
      "c c looks around\n",
      "c c looks around\n",
      "c c looks around\n",
      "c c looks around\n",
      "c c looks around\n",
      "c c looks around\n",
      "c c looks around\n",
      "c c looks around\n",
      "c c looks around\n",
      "c c looks around\n",
      "c c looks around\n"
     ]
    },
    {
     "name": "stderr",
     "output_type": "stream",
     "text": [
      " 80%|████████  | 1910/2374 [00:39<00:10, 46.28it/s]"
     ]
    },
    {
     "name": "stdout",
     "output_type": "stream",
     "text": [
      "c c looks around\n",
      "c c looks around\n",
      "c c looks around\n",
      "c c looks around\n",
      "c c looks around\n",
      "c c looks around\n",
      "c c looks around\n"
     ]
    },
    {
     "name": "stderr",
     "output_type": "stream",
     "text": [
      " 81%|████████  | 1915/2374 [00:39<00:11, 40.86it/s]"
     ]
    },
    {
     "name": "stdout",
     "output_type": "stream",
     "text": [
      "c c looks around\n",
      "c c looks around\n",
      "c c looks around\n",
      "c c looks around\n",
      "c c looks around\n",
      "c c looks around\n",
      "c c looks around\n",
      "c c looks around\n",
      "c c looks around\n",
      "c c looks around\n"
     ]
    },
    {
     "name": "stderr",
     "output_type": "stream",
     "text": [
      " 81%|████████▏ | 1930/2374 [00:39<00:08, 52.55it/s]"
     ]
    },
    {
     "name": "stdout",
     "output_type": "stream",
     "text": [
      "picks up the tin\n",
      "c c looks around\n",
      "c c looks around\n",
      "c c looks around\n",
      "c c looks around\n",
      "sweeps the floor with a broom brush\n",
      "sweeps the floor with a broom brush\n",
      "sweeps the floor with a broom brush\n",
      "sweeps the floor with a broom brush\n",
      "rinses the hand\n",
      "picks up\n",
      "picks the piece of plants\n",
      "picks the piece of plants\n",
      "drops it on the floor\n"
     ]
    },
    {
     "name": "stderr",
     "output_type": "stream",
     "text": [
      " 82%|████████▏ | 1944/2374 [00:39<00:07, 57.56it/s]"
     ]
    },
    {
     "name": "stdout",
     "output_type": "stream",
     "text": [
      "drops it on the floor\n",
      "drops it on the floor\n",
      "dips the brush in the paint\n",
      "dips the brush in the paint\n",
      "tightens the nut\n",
      "tightens the nut\n",
      "tightens the nut\n",
      "walks around\n",
      "sweeps the floor with a broom brush\n",
      "sweeps the floor with a broom brush\n",
      "sweeps the floor with a broom brush\n",
      "sweeps the floor with a broom brush\n",
      "moves forward\n",
      "moves forward\n"
     ]
    },
    {
     "name": "stderr",
     "output_type": "stream",
     "text": [
      " 83%|████████▎ | 1960/2374 [00:39<00:06, 67.89it/s]"
     ]
    },
    {
     "name": "stdout",
     "output_type": "stream",
     "text": [
      "sweeps the floor with a broom brush\n",
      "sweeps the floor with a broom brush\n",
      "sweeps the floor with a broom brush\n",
      "sweeps the floor with a broom brush\n",
      "sweeps the floor with a broom brush\n",
      "sweeps the floor with a broom brush\n",
      "sweeps the floor with a broom brush\n",
      "sweeps the floor with a broom brush\n",
      "sweeps the floor with a broom brush\n",
      "sweeps the floor with a broom brush\n",
      "places his hand on the table\n",
      "moves the cloth\n",
      "sweeps the floor with a broom brush\n",
      "sweeps the floor with a broom brush\n",
      "sweeps the floor with a broom brush\n",
      "sweeps the floor with a broom brush\n",
      "picks up\n"
     ]
    },
    {
     "name": "stderr",
     "output_type": "stream",
     "text": [
      " 83%|████████▎ | 1978/2374 [00:40<00:05, 76.36it/s]"
     ]
    },
    {
     "name": "stdout",
     "output_type": "stream",
     "text": [
      "picks up\n",
      "places his hand on the table\n",
      "picks the piece of plants\n",
      "dips the brush in the paint\n",
      "moves forward\n",
      "moves forward\n",
      "moves forward\n",
      "tightens the nut\n",
      "tightens the nut\n",
      "person a picks the cards\n",
      "opens the door\n",
      "sweeps the floor with a broom brush\n",
      "sweeps the floor with a broom brush\n",
      "sweeps the floor with a broom brush\n",
      "sweeps the floor with a broom brush\n",
      "sweeps the floor with a broom brush\n"
     ]
    },
    {
     "name": "stderr",
     "output_type": "stream",
     "text": [
      " 84%|████████▎ | 1986/2374 [00:40<00:05, 69.75it/s]"
     ]
    },
    {
     "name": "stdout",
     "output_type": "stream",
     "text": [
      "sweeps the floor with a broom brush\n",
      "puts down the knife\n",
      "walks around\n",
      "walks around\n",
      "sweeps the floor with a broom brush\n",
      "places his hand on the table\n",
      "sweeps the floor with a broom brush\n",
      "opens the tap\n",
      "sweeps the floor with a broom brush\n",
      "sweeps the floor with a broom brush\n",
      "sweeps the floor with a broom brush\n",
      "sweeps the floor with a broom brush\n",
      "sweeps the floor with a broom brush\n"
     ]
    },
    {
     "name": "stderr",
     "output_type": "stream",
     "text": [
      " 84%|████████▍ | 2002/2374 [00:40<00:05, 68.53it/s]"
     ]
    },
    {
     "name": "stdout",
     "output_type": "stream",
     "text": [
      "cuts the plants with the cutter\n",
      "opens the door\n",
      "sweeps the floor with a broom brush\n",
      "sweeps the floor with a broom brush\n",
      "sweeps the floor with a broom brush\n",
      "sweeps the floor with a broom brush\n",
      "sweeps the floor with a broom brush\n",
      "sweeps the floor with a broom brush\n",
      "sweeps the floor with a broom brush\n",
      "sweeps the floor with a broom brush\n",
      "sweeps the floor with a broom brush\n",
      "sweeps the floor with a broom brush\n",
      "sweeps the floor with a broom brush\n",
      "moves the cloth\n",
      "dips the brush in the paint\n",
      "moves forward\n"
     ]
    },
    {
     "name": "stderr",
     "output_type": "stream",
     "text": [
      " 85%|████████▌ | 2018/2374 [00:40<00:05, 68.99it/s]"
     ]
    },
    {
     "name": "stdout",
     "output_type": "stream",
     "text": [
      "opens the door\n",
      "puts the spoon in the bowl\n",
      "places his hand on the table\n",
      "places his hand on the table\n",
      "drops it on the floor\n",
      "opens the door\n",
      "opens the tap\n",
      "opens the tap\n",
      "puts the spoon in the bowl\n",
      "puts the spoon in the bowl\n",
      "opens the fridge drawer\n",
      "walks around\n",
      "walks around\n",
      "puts the bowl on the bowls\n"
     ]
    },
    {
     "name": "stderr",
     "output_type": "stream",
     "text": [
      " 86%|████████▌ | 2034/2374 [00:41<00:04, 68.80it/s]"
     ]
    },
    {
     "name": "stdout",
     "output_type": "stream",
     "text": [
      "puts the bowl on the bowls\n",
      "puts the bowl on the bowls\n",
      "puts the bowl on the bowls\n",
      "rinses the hand\n",
      "rinses the hand\n",
      "picks up\n",
      "drops it on the floor\n",
      "drops it on the floor\n",
      "walks around\n",
      "opens the tap\n",
      "opens the tap\n",
      "rinses the hand\n",
      "places his hand on the table\n"
     ]
    },
    {
     "name": "stderr",
     "output_type": "stream",
     "text": [
      " 86%|████████▋ | 2048/2374 [00:41<00:05, 60.62it/s]"
     ]
    },
    {
     "name": "stdout",
     "output_type": "stream",
     "text": [
      "moves the cloth\n",
      "moves the cloth\n",
      "moves the cloth\n",
      "moves the cloth\n",
      "moves the cloth\n",
      "moves the cloth\n",
      "moves the cloth\n",
      "moves the cloth\n",
      "moves the cloth\n",
      "moves the cloth\n",
      "opens the door\n",
      "rinses the hand\n"
     ]
    },
    {
     "name": "stderr",
     "output_type": "stream",
     "text": [
      " 87%|████████▋ | 2062/2374 [00:41<00:04, 63.08it/s]"
     ]
    },
    {
     "name": "stdout",
     "output_type": "stream",
     "text": [
      "moves forward\n",
      "picks up\n",
      "picks up\n",
      "dips the brush in the paint\n",
      "moves forward\n",
      "moves forward\n",
      "moves forward\n",
      "moves forward\n",
      "moves forward\n",
      "tightens the nut\n",
      "tightens the nut\n",
      "tightens the nut\n",
      "opens the door\n"
     ]
    },
    {
     "name": "stderr",
     "output_type": "stream",
     "text": [
      " 87%|████████▋ | 2076/2374 [00:41<00:04, 60.67it/s]"
     ]
    },
    {
     "name": "stdout",
     "output_type": "stream",
     "text": [
      "picks up\n",
      "picks up\n",
      "tightens the nut\n",
      "walks around\n",
      "opens the door\n",
      "picks up\n",
      "picks up\n",
      "puts the lid on the container\n",
      "drops it on the floor\n",
      "drops it on the floor\n",
      "cuts the plants with the cutter\n",
      "opens the door\n",
      "picks up\n",
      "opens the fridge drawer\n"
     ]
    },
    {
     "name": "stderr",
     "output_type": "stream",
     "text": [
      " 88%|████████▊ | 2083/2374 [00:41<00:04, 61.75it/s]"
     ]
    },
    {
     "name": "stdout",
     "output_type": "stream",
     "text": [
      "opens the fridge drawer\n",
      "tightens the nut\n",
      "tightens the nut\n",
      "opens the door\n",
      "opens the door\n",
      "opens the door\n",
      "picks up\n",
      "picks up\n",
      "picks up\n",
      "picks up\n",
      "picks up\n",
      "picks up\n",
      "picks up\n",
      "picks up\n"
     ]
    },
    {
     "name": "stderr",
     "output_type": "stream",
     "text": [
      " 88%|████████▊ | 2097/2374 [00:42<00:04, 63.39it/s]"
     ]
    },
    {
     "name": "stdout",
     "output_type": "stream",
     "text": [
      "picks up\n",
      "picks up\n",
      "puts the lid on the container\n",
      "puts the lid on the container\n",
      "puts the lid on the container\n",
      "puts the lid on the container\n",
      "puts the lid on the container\n",
      "puts the lid on the container\n",
      "puts the lid on the container\n",
      "puts the lid on the container\n",
      "puts the lid on the container\n",
      "puts the lid on the container\n",
      "puts the lid on the container\n"
     ]
    },
    {
     "name": "stderr",
     "output_type": "stream",
     "text": [
      " 89%|████████▉ | 2111/2374 [00:42<00:04, 61.78it/s]"
     ]
    },
    {
     "name": "stdout",
     "output_type": "stream",
     "text": [
      "puts the lid on the container\n",
      "puts the lid on the container\n",
      "moves forward\n",
      "walks around\n",
      "walks around\n",
      "walks around\n",
      "opens the door\n",
      "opens the door\n",
      "opens the door\n",
      "places his hand on the table\n",
      "moves the cloth\n",
      "moves the cloth\n"
     ]
    },
    {
     "name": "stderr",
     "output_type": "stream",
     "text": [
      " 90%|████████▉ | 2125/2374 [00:42<00:04, 60.78it/s]"
     ]
    },
    {
     "name": "stdout",
     "output_type": "stream",
     "text": [
      "places his hand on the table\n",
      "places his hand on the table\n",
      "places his hand on the table\n",
      "places his hand on the table\n",
      "tightens the nut\n",
      "tightens the nut\n",
      "places his hand on the table\n",
      "puts down the knife\n",
      "puts down the knife\n",
      "cuts the plants with the cutter\n",
      "cuts the plants with the cutter\n",
      "puts the wood on the wood cutting machine\n",
      "puts the wood on the wood cutting machine\n"
     ]
    },
    {
     "name": "stderr",
     "output_type": "stream",
     "text": [
      " 90%|█████████ | 2140/2374 [00:42<00:03, 65.21it/s]"
     ]
    },
    {
     "name": "stdout",
     "output_type": "stream",
     "text": [
      "puts the wood on the wood cutting machine\n",
      "puts the wood on the wood cutting machine\n",
      "puts the wood on the wood cutting machine\n",
      "puts the wood on the wood cutting machine\n",
      "puts the wood on the wood cutting machine\n",
      "puts the wood on the wood cutting machine\n",
      "puts the wood on the wood cutting machine\n",
      "puts the wood on the wood cutting machine\n",
      "puts the wood on the wood cutting machine\n",
      "puts the wood on the wood cutting machine\n",
      "puts the wood on the wood cutting machine\n",
      "puts the wood on the wood cutting machine\n",
      "puts the wood on the wood cutting machine\n",
      "puts the wood on the wood cutting machine\n",
      "puts the wood on the wood cutting machine\n"
     ]
    },
    {
     "name": "stderr",
     "output_type": "stream",
     "text": [
      " 91%|█████████ | 2155/2374 [00:42<00:03, 69.56it/s]"
     ]
    },
    {
     "name": "stdout",
     "output_type": "stream",
     "text": [
      "puts the wood on the wood cutting machine\n",
      "puts the wood on the wood cutting machine\n",
      "puts the wood on the wood cutting machine\n",
      "puts the wood on the wood cutting machine\n",
      "puts the wood on the wood cutting machine\n",
      "puts the wood on the wood cutting machine\n",
      "puts the wood on the wood cutting machine\n",
      "puts the wood on the wood cutting machine\n",
      "puts the wood on the wood cutting machine\n",
      "puts the wood on the wood cutting machine\n",
      "puts the wood on the wood cutting machine\n",
      "puts the wood on the wood cutting machine\n",
      "puts the wood on the wood cutting machine\n",
      "puts the wood on the wood cutting machine\n",
      "puts the wood on the wood cutting machine\n"
     ]
    },
    {
     "name": "stderr",
     "output_type": "stream",
     "text": [
      " 91%|█████████▏| 2171/2374 [00:43<00:02, 71.27it/s]"
     ]
    },
    {
     "name": "stdout",
     "output_type": "stream",
     "text": [
      "puts the wood on the wood cutting machine\n",
      "puts the wood on the wood cutting machine\n",
      "puts the wood on the wood cutting machine\n",
      "puts the wood on the wood cutting machine\n",
      "puts the wood on the wood cutting machine\n",
      "puts the wood on the wood cutting machine\n",
      "puts the wood on the wood cutting machine\n",
      "puts the wood on the wood cutting machine\n",
      "puts the wood on the wood cutting machine\n",
      "puts the wood on the wood cutting machine\n",
      "puts the wood on the wood cutting machine\n",
      "puts the wood on the wood cutting machine\n",
      "puts the wood on the wood cutting machine\n",
      "puts the wood on the wood cutting machine\n",
      "puts the wood on the wood cutting machine\n"
     ]
    },
    {
     "name": "stderr",
     "output_type": "stream",
     "text": [
      " 92%|█████████▏| 2186/2374 [00:43<00:02, 69.48it/s]"
     ]
    },
    {
     "name": "stdout",
     "output_type": "stream",
     "text": [
      "puts the wood on the wood cutting machine\n",
      "puts the wood on the wood cutting machine\n",
      "puts food on the  cooking pan\n",
      "walks around\n",
      "places his hand on the table\n",
      "places his hand on the table\n",
      "places his hand on the table\n",
      "places his hand on the table\n",
      "places his hand on the table\n",
      "places his hand on the table\n",
      "places his hand on the table\n",
      "places his hand on the table\n",
      "cuts the plants with the cutter\n",
      "cuts the plants with the cutter\n"
     ]
    },
    {
     "name": "stderr",
     "output_type": "stream",
     "text": [
      " 93%|█████████▎| 2202/2374 [00:43<00:02, 72.42it/s]"
     ]
    },
    {
     "name": "stdout",
     "output_type": "stream",
     "text": [
      "cuts the plants with the cutter\n",
      "tightens the nut\n",
      "places his hand on the table\n",
      "places his hand on the table\n",
      "places his hand on the table\n",
      "places his hand on the table\n",
      "moves the cloth\n",
      "moves the cloth\n",
      "moves the cloth\n",
      "moves the cloth\n",
      "moves the cloth\n",
      "moves the cloth\n",
      "drops it on the floor\n",
      "tightens the nut\n",
      "places his hand on the table\n"
     ]
    },
    {
     "name": "stderr",
     "output_type": "stream",
     "text": [
      " 93%|█████████▎| 2210/2374 [00:43<00:02, 61.66it/s]"
     ]
    },
    {
     "name": "stdout",
     "output_type": "stream",
     "text": [
      "puts down the knife\n",
      "puts down the knife\n",
      "dips the brush in the paint\n",
      "dips the brush in the paint\n",
      "dips the brush in the paint\n",
      "opens the door\n",
      "opens the door\n",
      "places his hand on the table\n",
      "puts the pot on the cooker\n",
      "puts the pot on the cooker\n",
      "opens the tap\n",
      "puts the pot on the cooker\n",
      "rolls the dough\n"
     ]
    },
    {
     "name": "stderr",
     "output_type": "stream",
     "text": [
      " 93%|█████████▎| 2219/2374 [00:43<00:02, 67.38it/s]"
     ]
    },
    {
     "name": "stdout",
     "output_type": "stream",
     "text": [
      "rolls the dough\n",
      "rolls the dough\n",
      "rolls the dough\n",
      "rolls the dough\n",
      "puts food on the  cooking pan\n",
      "picks the piece of plants\n",
      "picks the piece of plants\n",
      "picks the piece of plants\n",
      "picks the piece of plants\n",
      "picks the piece of plants\n"
     ]
    },
    {
     "name": "stderr",
     "output_type": "stream",
     "text": [
      " 94%|█████████▍| 2234/2374 [00:44<00:02, 51.14it/s]"
     ]
    },
    {
     "name": "stdout",
     "output_type": "stream",
     "text": [
      "picks the piece of plants\n",
      "picks the piece of plants\n",
      "picks the piece of plants\n",
      "picks the piece of plants\n",
      "picks the piece of plants\n",
      "picks the piece of plants\n",
      "picks the piece of plants\n",
      "picks the piece of plants\n",
      "picks the piece of plants\n"
     ]
    },
    {
     "name": "stderr",
     "output_type": "stream",
     "text": [
      " 94%|█████████▍| 2240/2374 [00:44<00:02, 49.05it/s]"
     ]
    },
    {
     "name": "stdout",
     "output_type": "stream",
     "text": [
      "picks the piece of plants\n",
      "picks the piece of plants\n",
      "picks the piece of plants\n",
      "picks the piece of plants\n",
      "picks the piece of plants\n",
      "picks the piece of plants\n",
      "picks the piece of plants\n",
      "picks the piece of plants\n"
     ]
    },
    {
     "name": "stderr",
     "output_type": "stream",
     "text": [
      " 95%|█████████▍| 2251/2374 [00:44<00:02, 45.78it/s]"
     ]
    },
    {
     "name": "stdout",
     "output_type": "stream",
     "text": [
      "picks the piece of plants\n",
      "picks the piece of plants\n",
      "picks the piece of plants\n",
      "picks the piece of plants\n",
      "picks the piece of plants\n",
      "picks the piece of plants\n",
      "picks the piece of plants\n",
      "drops it on the floor\n",
      "cuts the plants with the cutter\n"
     ]
    },
    {
     "name": "stderr",
     "output_type": "stream",
     "text": [
      " 95%|█████████▌| 2256/2374 [00:44<00:02, 42.55it/s]"
     ]
    },
    {
     "name": "stdout",
     "output_type": "stream",
     "text": [
      "cuts the plants with the cutter\n",
      "cuts the plants with the cutter\n",
      "cuts the plants with the cutter\n",
      "cuts the plants with the cutter\n",
      "moves forward\n",
      "moves forward\n",
      "moves forward\n",
      "tightens the nut\n"
     ]
    },
    {
     "name": "stderr",
     "output_type": "stream",
     "text": [
      " 96%|█████████▌| 2268/2374 [00:45<00:02, 48.13it/s]"
     ]
    },
    {
     "name": "stdout",
     "output_type": "stream",
     "text": [
      "tightens the nut\n",
      "picks the piece of plants\n",
      "picks the piece of plants\n",
      "picks the piece of plants\n",
      "puts down the knife\n",
      "puts down the knife\n",
      "puts down the knife\n",
      "puts down the knife\n",
      "puts down the knife\n",
      "puts down the knife\n",
      "puts down the knife\n",
      "puts down the knife\n",
      "puts down the knife\n"
     ]
    },
    {
     "name": "stderr",
     "output_type": "stream",
     "text": [
      " 96%|█████████▌| 2283/2374 [00:45<00:01, 58.71it/s]"
     ]
    },
    {
     "name": "stdout",
     "output_type": "stream",
     "text": [
      "cuts the plants with the cutter\n",
      "cuts the plants with the cutter\n",
      "cuts the plants with the cutter\n",
      "cuts the plants with the cutter\n",
      "cuts the plants with the cutter\n",
      "cuts the plants with the cutter\n",
      "cuts the plants with the cutter\n",
      "cuts the plants with the cutter\n",
      "cuts the plants with the cutter\n",
      "cuts the plants with the cutter\n",
      "cuts the plants with the cutter\n",
      "cuts the plants with the cutter\n",
      "cuts the plants with the cutter\n",
      "cuts the plants with the cutter\n",
      "cuts the plants with the cutter\n"
     ]
    },
    {
     "name": "stderr",
     "output_type": "stream",
     "text": [
      " 97%|█████████▋| 2297/2374 [00:45<00:01, 59.06it/s]"
     ]
    },
    {
     "name": "stdout",
     "output_type": "stream",
     "text": [
      "cuts the plants with the cutter\n",
      "cuts the plants with the cutter\n",
      "cuts the plants with the cutter\n",
      "cuts the plants with the cutter\n",
      "moves forward\n",
      "picks the piece of plants\n",
      "cuts the plants with the cutter\n",
      "cuts the grass\n",
      "moves the cloth\n",
      "drops it on the floor\n",
      "puts down the knife\n",
      "drops it on the floor\n"
     ]
    },
    {
     "name": "stderr",
     "output_type": "stream",
     "text": [
      " 97%|█████████▋| 2304/2374 [00:45<00:01, 56.12it/s]"
     ]
    },
    {
     "name": "stdout",
     "output_type": "stream",
     "text": [
      "tightens the nut\n",
      "puts down the knife\n",
      "puts down the knife\n",
      "cuts the plants with the cutter\n",
      "cuts the grass\n",
      "cuts the grass\n",
      "cuts the grass\n",
      "cuts the grass\n",
      "cuts the grass\n"
     ]
    },
    {
     "name": "stderr",
     "output_type": "stream",
     "text": [
      " 98%|█████████▊| 2316/2374 [00:45<00:01, 50.39it/s]"
     ]
    },
    {
     "name": "stdout",
     "output_type": "stream",
     "text": [
      "cuts the grass\n",
      "cuts the grass\n",
      "moves forward\n",
      "dips the brush in the paint\n",
      "dips the brush in the paint\n",
      "dips the brush in the paint\n",
      "dips the brush in the paint\n",
      "dips the brush in the paint\n",
      "dips the brush in the paint\n",
      "dips the brush in the paint\n",
      "dips the brush in the paint\n",
      "dips the brush in the paint\n"
     ]
    },
    {
     "name": "stderr",
     "output_type": "stream",
     "text": [
      " 98%|█████████▊| 2330/2374 [00:46<00:00, 58.02it/s]"
     ]
    },
    {
     "name": "stdout",
     "output_type": "stream",
     "text": [
      "dips the brush in the paint\n",
      "dips the brush in the paint\n",
      "tightens the nut\n",
      "walks around\n",
      "dips the brush in the paint\n",
      "puts the wood on the wood cutting machine\n",
      "puts the wood on the wood cutting machine\n",
      "puts the wood on the wood cutting machine\n",
      "puts clothes on the hanger stand\n",
      "puts clothes on the hanger stand\n",
      "puts clothes on the hanger stand\n",
      "puts clothes on the hanger stand\n",
      "puts clothes on the hanger stand\n"
     ]
    },
    {
     "name": "stderr",
     "output_type": "stream",
     "text": [
      " 98%|█████████▊| 2336/2374 [00:46<00:00, 55.84it/s]"
     ]
    },
    {
     "name": "stdout",
     "output_type": "stream",
     "text": [
      "puts clothes on the hanger stand\n",
      "puts clothes on the hanger stand\n",
      "puts clothes on the hanger stand\n",
      "puts clothes on the hanger stand\n",
      "puts clothes on the hanger stand\n",
      "puts clothes on the hanger stand\n",
      "puts clothes on the hanger stand\n",
      "puts clothes on the hanger stand\n"
     ]
    },
    {
     "name": "stderr",
     "output_type": "stream",
     "text": [
      " 99%|█████████▉| 2348/2374 [00:46<00:00, 45.77it/s]"
     ]
    },
    {
     "name": "stdout",
     "output_type": "stream",
     "text": [
      "puts clothes on the hanger stand\n",
      "puts clothes on the hanger stand\n",
      "puts clothes on the hanger stand\n",
      "puts clothes on the hanger stand\n",
      "puts clothes on the hanger stand\n",
      "puts clothes on the hanger stand\n",
      "puts clothes on the hanger stand\n",
      "puts clothes on the hanger stand\n",
      "tightens the nut\n"
     ]
    },
    {
     "name": "stderr",
     "output_type": "stream",
     "text": [
      " 99%|█████████▉| 2360/2374 [00:46<00:00, 49.45it/s]"
     ]
    },
    {
     "name": "stdout",
     "output_type": "stream",
     "text": [
      "opens the door\n",
      "puts clothes on the hanger stand\n",
      "puts off the rice grinder with her right hand\n",
      "cuts the grass\n",
      "cuts the grass\n",
      "cuts the grass\n",
      "cuts the grass\n",
      "moves forward\n",
      "moves forward\n",
      "moves forward\n",
      "moves forward\n",
      "opens the door\n"
     ]
    },
    {
     "name": "stderr",
     "output_type": "stream",
     "text": [
      "100%|██████████| 2374/2374 [00:46<00:00, 50.54it/s]"
     ]
    },
    {
     "name": "stdout",
     "output_type": "stream",
     "text": [
      "tightens the nut\n",
      "tightens the nut\n",
      "tightens the nut\n",
      "tightens the nut\n",
      "tightens the nut\n",
      "tightens the nut\n",
      "tightens the nut\n",
      "tightens the nut\n",
      "tightens the nut\n",
      "tightens the nut\n",
      "tightens the nut\n",
      "tightens the nut\n"
     ]
    },
    {
     "name": "stderr",
     "output_type": "stream",
     "text": [
      "\n"
     ]
    }
   ],
   "source": [
    "from ego4d.ego4d_dataset import Ego4D_Action2Sound\n",
    "import soundfile as sf\n",
    "import numpy as np\n",
    "import os\n",
    "import tqdm\n",
    "\n",
    "dataset = Ego4D_Action2Sound(folder='../dataset/ego4d/v2/', window_sec=10, modal=['audio', 'imu', 'narration'],\n",
    "                                     csv='ego4d/soundingaction/cluster50_positive.csv')\n",
    "output_dir = '../dataset/ego4d/positive/'\n",
    "os.makedirs(output_dir, exist_ok=True)\n",
    "for i in tqdm.tqdm(range(len(dataset))):\n",
    "    sample = dataset[i]\n",
    "    audio, imu, activity = sample['audio'], sample['imu'], sample['text']\n",
    "    scenario_name = sample['scenario_name']\n",
    "   \n",
    "    activity_folder = os.path.join(output_dir, activity)\n",
    "    fname = f\"{scenario_name}_{i}\"\n",
    "\n",
    "    os.makedirs(activity_folder, exist_ok=True)\n",
    "    audio_path = os.path.join(activity_folder, fname + '.wav')\n",
    "    sf.write(audio_path, audio, 16000)\n",
    "    imu_path = os.path.join(activity_folder, fname + '.npy')\n",
    "    np.save(imu_path, imu)"
   ]
  }
 ],
 "metadata": {
  "kernelspec": {
   "display_name": "har",
   "language": "python",
   "name": "python3"
  },
  "language_info": {
   "codemirror_mode": {
    "name": "ipython",
    "version": 3
   },
   "file_extension": ".py",
   "mimetype": "text/x-python",
   "name": "python",
   "nbconvert_exporter": "python",
   "pygments_lexer": "ipython3",
   "version": "3.9.19"
  }
 },
 "nbformat": 4,
 "nbformat_minor": 5
}
